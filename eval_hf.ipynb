{
 "cells": [
  {
   "cell_type": "code",
   "execution_count": 1,
   "id": "56af47e7",
   "metadata": {},
   "outputs": [],
   "source": [
    "import os\n",
    "import regex\n",
    "from tqdm import tqdm\n",
    "from collections import defaultdict\n",
    "import warnings\n",
    "warnings.filterwarnings(\"ignore\")\n",
    "\n",
    "batch_size = 500\n",
    "\n",
    "def batch_iterator():\n",
    "    for i in range(0, len(dataset), batch_size):\n",
    "        yield dataset[i : i + batch_size]\n",
    "        \n",
    "def batch_iterator_split():\n",
    "    pat = regex.compile(r\"\"\"'s|'t|'re|'ve|'m|'ll|'d| ?[\\p{L}]+| ?[\\p{N}]+| ?[^\\s\\p{L}\\p{N}]+|\\s+(?!\\S)|\\s+\"\"\")\n",
    "    for i in range(0, len(dataset), batch_size):\n",
    "        yield [regex.findall(pat, text) \n",
    "               for text in dataset[i : i + batch_size]]\n",
    "    \n",
    "dataset = [open(f\"../project5/data/un/TXT/{f}\").read() for f in os.listdir(\"../project5/data/un/TXT/\")[:10000]]"
   ]
  },
  {
   "cell_type": "code",
   "execution_count": 2,
   "id": "7b143773",
   "metadata": {},
   "outputs": [
    {
     "name": "stderr",
     "output_type": "stream",
     "text": [
      "None of PyTorch, TensorFlow >= 2.0, or Flax have been found. Models won't be available and only tokenizers, configuration and file/data utilities can be used.\n"
     ]
    },
    {
     "name": "stdout",
     "output_type": "stream",
     "text": [
      "Trie constructed\n",
      "Word counts size: 103190\n",
      "Token set size: 0\n",
      "Empty token set size selected -> all possible substrings with...\n",
      "Max token size: 100\n",
      "Min. word count: 1\n",
      "len:  100\n",
      "Final candidate token set size: 678311\n",
      "Initial setup phase: 1601 ms\n",
      "0. |<pad> [3c 70 61 64 3e ] | 0\n",
      "1. |<unk> [3c 75 6e 6b 3e ] | 0\n",
      "2. |<eos> [3c 65 6f 73 3e ] | 0\n",
      "Starting main routine...\n",
      "4. | the [20 74 68 65 ] | 378447 | 84 ms | 102 ms | shortlist: 2947\n",
      "5. |tion [74 69 6f 6e ] | 206001 | 51 ms | 85 ms | shortlist: 68487\n",
      "6. | and [20 61 6e 64 ] | 157941 | 45 ms | 46 ms | shortlist: 612\n",
      "7. | of [20 6f 66 ] | 151426 | 36 ms | 36 ms | shortlist: 895\n",
      "8. |in [69 6e ] | 147507 | 30 ms | 113 ms | shortlist: 177066\n",
      "9. |re [72 65 ] | 119689 | 40 ms | 93 ms | shortlist: 98801\n",
      "10. | t [20 74 ] | 105344 | 50 ms | 63 ms | shortlist: 23658\n",
      "11. | a [20 61 ] | 99935 | 33 ms | 48 ms | shortlist: 39319\n",
      "12. |er [65 72 ] | 97867 | 35 ms | 95 ms | shortlist: 117395\n",
      "13. |en [65 6e ] | 94431 | 39 ms | 93 ms | shortlist: 95674\n",
      "14. | co [20 63 6f ] | 84160 | 39 ms | 55 ms | shortlist: 32292\n",
      "15. |it [69 74 ] | 81927 | 35 ms | 70 ms | shortlist: 61995\n",
      "16. |es [65 73 ] | 72455 | 34 ms | 86 ms | shortlist: 122832\n",
      "17. |al [61 6c ] | 69333 | 48 ms | 100 ms | shortlist: 86304\n",
      "18. |or [6f 72 ] | 68611 | 36 ms | 69 ms | shortlist: 54859\n",
      "19. |an [61 6e ] | 67202 | 36 ms | 88 ms | shortlist: 96473\n",
      "20. |at [61 74 ] | 66125 | 41 ms | 84 ms | shortlist: 73386\n",
      "21. |on [6f 6e ] | 64806 | 41 ms | 83 ms | shortlist: 68985\n",
      "22. |is [69 73 ] | 64412 | 36 ms | 82 ms | shortlist: 84113\n",
      "23. | s [20 73 ] | 63990 | 47 ms | 74 ms | shortlist: 52816\n",
      "24. | w [20 77 ] | 62224 | 35 ms | 42 ms | shortlist: 10501\n",
      "25. |ed [65 64 ] | 59451 | 29 ms | 73 ms | shortlist: 93981\n",
      "26. | p [20 70 ] | 58455 | 35 ms | 54 ms | shortlist: 46311\n",
      "27. | in [20 69 6e ] | 54935 | 33 ms | 47 ms | shortlist: 34117\n",
      "28. | to [20 74 6f ] | 51576 | 31 ms | 34 ms | shortlist: 2337\n",
      "29. |ic [69 63 ] | 48340 | 26 ms | 55 ms | shortlist: 61639\n",
      "30. |ation [61 74 69 6f 6e ] | 48065 | 46 ms | 75 ms | shortlist: 52614\n",
      "31. |ar [61 72 ] | 47885 | 33 ms | 66 ms | shortlist: 69540\n",
      "32. |ou [6f 75 ] | 46958 | 34 ms | 57 ms | shortlist: 42466\n",
      "33. |ing [69 6e 67 ] | 46444 | 33 ms | 82 ms | shortlist: 111562\n",
      "34. | f [20 66 ] | 46001 | 46 ms | 58 ms | shortlist: 21768\n",
      "35. | b [20 62 ] | 43592 | 30 ms | 40 ms | shortlist: 24015\n",
      "36. |ment [6d 65 6e 74 ] | 43388 | 28 ms | 40 ms | shortlist: 22246\n",
      "37. | that [20 74 68 61 74 ] | 39040 | 33 ms | 35 ms | shortlist: 405\n",
      "38. |le [6c 65 ] | 38804 | 31 ms | 55 ms | shortlist: 47561\n",
      "39. |develop [64 65 76 65 6c 6f 70 ] | 37428 | 32 ms | 33 ms | shortlist: 957\n",
      "40. | m [20 6d ] | 35318 | 22 ms | 34 ms | shortlist: 31636\n",
      "41. | h [20 68 ] | 34765 | 29 ms | 36 ms | shortlist: 17709\n",
      "42. |st [73 74 ] | 33528 | 31 ms | 51 ms | shortlist: 37576\n",
      "43. | re [20 72 65 ] | 33237 | 32 ms | 45 ms | shortlist: 33190\n",
      "44. |ternational [74 65 72 6e 61 74 69 6f 6e 61 6c ] | 31456 | 44 ms | 46 ms | shortlist: 814\n",
      "45. | d [20 64 ] | 31348 | 35 ms | 53 ms | shortlist: 43500\n",
      "46. |ro [72 6f ] | 30484 | 34 ms | 51 ms | shortlist: 35277\n",
      "47. |ec [65 63 ] | 30261 | 31 ms | 45 ms | shortlist: 23661\n",
      "48. | United [20 55 6e 69 74 65 64 ] | 29280 | 33 ms | 34 ms | shortlist: 179\n",
      "49. | countr [20 63 6f 75 6e 74 72 ] | 29200 | 24 ms | 24 ms | shortlist: 396\n",
      "50. |ce [63 65 ] | 28802 | 18 ms | 29 ms | shortlist: 22916\n",
      "51. |ve [76 65 ] | 27559 | 36 ms | 47 ms | shortlist: 23103\n",
      "52. |th [74 68 ] | 27060 | 30 ms | 39 ms | shortlist: 20976\n",
      "53. |il [69 6c ] | 26689 | 30 ms | 48 ms | shortlist: 39866\n",
      "54. | n [20 6e ] | 25629 | 43 ms | 49 ms | shortlist: 14177\n",
      "55. |as [61 73 ] | 24487 | 31 ms | 43 ms | shortlist: 28316\n",
      "56. | c [20 63 ] | 24219 | 32 ms | 42 ms | shortlist: 25113\n",
      "57. |ly [6c 79 ] | 23737 | 37 ms | 65 ms | shortlist: 67004\n",
      "58. | which [20 77 68 69 63 68 ] | 21612 | 36 ms | 37 ms | shortlist: 70\n",
      "59. |The [54 68 65 ] | 21534 | 22 ms | 22 ms | shortlist: 709\n",
      "60. | e [20 65 ] | 21186 | 21 ms | 29 ms | shortlist: 20876\n",
      "61. | with [20 77 69 74 68 ] | 20086 | 40 ms | 41 ms | shortlist: 428\n",
      "62. | be [20 62 65 ] | 19517 | 32 ms | 33 ms | shortlist: 3422\n",
      "63. | con [20 63 6f 6e ] | 19341 | 34 ms | 40 ms | shortlist: 15532\n",
      "64. | Nations [20 4e 61 74 69 6f 6e 73 ] | 19293 | 32 ms | 33 ms | shortlist: 169\n",
      "65. |ol [6f 6c ] | 19041 | 23 ms | 36 ms | shortlist: 28014\n",
      "66. | for [20 66 6f 72 ] | 18969 | 31 ms | 32 ms | shortlist: 2764\n",
      "67. | peace [20 70 65 61 63 65 ] | 18861 | 27 ms | 28 ms | shortlist: 560\n",
      "68. |im [69 6d ] | 18750 | 25 ms | 38 ms | shortlist: 25044\n",
      "69. | S [20 53 ] | 18740 | 30 ms | 41 ms | shortlist: 34360\n",
      "70. |un [75 6e ] | 18535 | 32 ms | 53 ms | shortlist: 52486\n",
      "71. |om [6f 6d ] | 18447 | 43 ms | 56 ms | shortlist: 24507\n",
      "72. | our [20 6f 75 72 ] | 18020 | 32 ms | 33 ms | shortlist: 105\n",
      "73. |ity [69 74 79 ] | 17666 | 22 ms | 30 ms | shortlist: 22114\n",
      "74. |op [6f 70 ] | 17612 | 29 ms | 35 ms | shortlist: 13822\n",
      "75. |ight [69 67 68 74 ] | 17439 | 32 ms | 35 ms | shortlist: 4526\n",
      "76. |ent [65 6e 74 ] | 17403 | 24 ms | 35 ms | shortlist: 22142\n",
      "77. | is [20 69 73 ] | 17387 | 28 ms | 28 ms | shortlist: 598\n",
      "78. |si [73 69 ] | 17314 | 21 ms | 32 ms | shortlist: 20486\n",
      "79. |ur [75 72 ] | 17310 | 35 ms | 46 ms | shortlist: 23313\n",
      "80. |se [73 65 ] | 17169 | 33 ms | 39 ms | shortlist: 13302\n",
      "81. | world [20 77 6f 72 6c 64 ] | 16743 | 27 ms | 28 ms | shortlist: 189\n",
      "82. |ra [72 61 ] | 16606 | 20 ms | 34 ms | shortlist: 31017\n",
      "83. | A [20 41 ] | 16520 | 36 ms | 46 ms | shortlist: 28477\n",
      "84. | th [20 74 68 ] | 15692 | 30 ms | 31 ms | shortlist: 2931\n",
      "85. |ul [75 6c ] | 15048 | 24 ms | 37 ms | shortlist: 26758\n",
      "86. | have [20 68 61 76 65 ] | 14872 | 29 ms | 29 ms | shortlist: 135\n",
      "87. | on [20 6f 6e ] | 14652 | 26 ms | 26 ms | shortlist: 988\n",
      "88. |ver [76 65 72 ] | 14535 | 26 ms | 34 ms | shortlist: 16746\n",
      "89. | I [20 49 ] | 14438 | 27 ms | 34 ms | shortlist: 20484\n",
      "90. |ir [69 72 ] | 14429 | 26 ms | 33 ms | shortlist: 15652\n",
      "91. | its [20 69 74 73 ] | 14242 | 26 ms | 26 ms | shortlist: 207\n",
      "92. |ies [69 65 73 ] | 13994 | 24 ms | 34 ms | shortlist: 24934\n",
      "93. | g [20 67 ] | 13537 | 27 ms | 32 ms | shortlist: 13479\n",
      "94. | l [20 6c ] | 13461 | 27 ms | 31 ms | shortlist: 10737\n",
      "95. | we [20 77 65 ] | 13103 | 26 ms | 26 ms | shortlist: 1630\n",
      "96. |port [70 6f 72 74 ] | 13034 | 26 ms | 28 ms | shortlist: 2687\n",
      "97. | C [20 43 ] | 12928 | 21 ms | 32 ms | shortlist: 31671\n",
      "98. |Organization [4f 72 67 61 6e 69 7a 61 74 69 6f 6e ] | 12894 | 27 ms | 28 ms | shortlist: 237\n",
      "99. | all [20 61 6c 6c ] | 12888 | 19 ms | 20 ms | shortlist: 772\n",
      "100. |de [64 65 ] | 12570 | 19 ms | 28 ms | shortlist: 20934\n",
      "Total time taken: 5 seconds\n",
      "Trie constructed\n",
      "eos_token <eos> 2\n",
      "unk_token <unk> 1\n",
      "pad_token <pad> 0\n"
     ]
    }
   ],
   "source": [
    "from pcatt.hf.greedtok import GreedTok\n",
    "\n",
    "# text iterator yield batches of lists of str\n",
    "\n",
    "GT_Train = GreedTok().train_new_from_iterator(\n",
    "    batch_iterator(), \n",
    "    vocab_size = 100,\n",
    "    special_tokens_map={\n",
    "        \"pad_token\":\"<pad>\",\n",
    "        \"unk_token\":\"<unk>\", \n",
    "        \"eos_token\":\"<eos>\"\n",
    "    },\n",
    "    min_word_count=1,\n",
    "    max_token_size=1000\n",
    ")"
   ]
  },
  {
   "cell_type": "code",
   "execution_count": 3,
   "id": "e9cbd27f",
   "metadata": {},
   "outputs": [
    {
     "name": "stdout",
     "output_type": "stream",
     "text": [
      "Trie constructed\n",
      "Word counts size: 103190\n",
      "Token set size: 0\n",
      "Empty token set size selected -> all possible substrings with...\n",
      "Max token size: 100\n",
      "Min. word count: 1\n",
      "len:  100\n",
      "Final candidate token set size: 678311\n",
      "Initial setup phase: 2042 ms\n",
      "0. |<pad> [3c 70 61 64 3e ] | 0\n",
      "1. |<unk> [3c 75 6e 6b 3e ] | 0\n",
      "2. |<eos> [3c 65 6f 73 3e ] | 0\n",
      "Starting main routine...\n",
      "4. | the [20 74 68 65 ] | 378447 | 79 ms | 97 ms | shortlist: 2947\n",
      "5. |tion [74 69 6f 6e ] | 206001 | 35 ms | 69 ms | shortlist: 68487\n",
      "6. | and [20 61 6e 64 ] | 157941 | 44 ms | 46 ms | shortlist: 612\n",
      "7. | of [20 6f 66 ] | 151426 | 27 ms | 28 ms | shortlist: 895\n",
      "8. |in [69 6e ] | 147507 | 28 ms | 116 ms | shortlist: 177066\n",
      "9. |re [72 65 ] | 119689 | 43 ms | 95 ms | shortlist: 98801\n",
      "10. | t [20 74 ] | 105344 | 39 ms | 50 ms | shortlist: 23658\n",
      "11. | a [20 61 ] | 99935 | 36 ms | 51 ms | shortlist: 39319\n",
      "12. |er [65 72 ] | 97867 | 36 ms | 93 ms | shortlist: 117395\n",
      "13. |en [65 6e ] | 94431 | 53 ms | 110 ms | shortlist: 95674\n",
      "14. | co [20 63 6f ] | 84160 | 43 ms | 59 ms | shortlist: 32292\n",
      "15. |it [69 74 ] | 81927 | 36 ms | 72 ms | shortlist: 61995\n",
      "16. |es [65 73 ] | 72455 | 36 ms | 88 ms | shortlist: 122832\n",
      "17. |al [61 6c ] | 69333 | 47 ms | 100 ms | shortlist: 86304\n",
      "18. |or [6f 72 ] | 68611 | 40 ms | 73 ms | shortlist: 54859\n",
      "19. |an [61 6e ] | 67202 | 41 ms | 94 ms | shortlist: 96473\n",
      "20. |at [61 74 ] | 66125 | 42 ms | 86 ms | shortlist: 73386\n",
      "21. |on [6f 6e ] | 64806 | 45 ms | 87 ms | shortlist: 68985\n",
      "22. |is [69 73 ] | 64412 | 37 ms | 82 ms | shortlist: 84113\n",
      "23. | s [20 73 ] | 63990 | 46 ms | 74 ms | shortlist: 52816\n",
      "24. | w [20 77 ] | 62224 | 37 ms | 45 ms | shortlist: 10501\n",
      "25. |ed [65 64 ] | 59451 | 32 ms | 74 ms | shortlist: 93981\n",
      "26. | p [20 70 ] | 58455 | 36 ms | 55 ms | shortlist: 46311\n",
      "27. | in [20 69 6e ] | 54935 | 35 ms | 49 ms | shortlist: 34117\n",
      "28. | to [20 74 6f ] | 51576 | 30 ms | 33 ms | shortlist: 2337\n",
      "29. |ic [69 63 ] | 48340 | 25 ms | 54 ms | shortlist: 61639\n",
      "30. |ation [61 74 69 6f 6e ] | 48065 | 42 ms | 70 ms | shortlist: 52614\n",
      "31. |ar [61 72 ] | 47885 | 34 ms | 67 ms | shortlist: 69540\n",
      "32. |ou [6f 75 ] | 46958 | 35 ms | 58 ms | shortlist: 42466\n",
      "33. |ing [69 6e 67 ] | 46444 | 34 ms | 81 ms | shortlist: 111562\n",
      "34. | f [20 66 ] | 46001 | 44 ms | 57 ms | shortlist: 21768\n",
      "35. | b [20 62 ] | 43592 | 31 ms | 41 ms | shortlist: 24015\n",
      "36. |ment [6d 65 6e 74 ] | 43388 | 32 ms | 44 ms | shortlist: 22246\n",
      "37. | that [20 74 68 61 74 ] | 39040 | 34 ms | 36 ms | shortlist: 405\n",
      "38. |le [6c 65 ] | 38804 | 28 ms | 50 ms | shortlist: 47561\n",
      "39. |develop [64 65 76 65 6c 6f 70 ] | 37428 | 30 ms | 32 ms | shortlist: 957\n",
      "40. | m [20 6d ] | 35318 | 22 ms | 33 ms | shortlist: 31636\n",
      "41. | h [20 68 ] | 34765 | 30 ms | 36 ms | shortlist: 17709\n",
      "42. |st [73 74 ] | 33528 | 29 ms | 48 ms | shortlist: 37576\n",
      "43. | re [20 72 65 ] | 33237 | 30 ms | 43 ms | shortlist: 33190\n",
      "44. |ternational [74 65 72 6e 61 74 69 6f 6e 61 6c ] | 31456 | 40 ms | 42 ms | shortlist: 814\n",
      "45. | d [20 64 ] | 31348 | 30 ms | 49 ms | shortlist: 43500\n",
      "46. |ro [72 6f ] | 30484 | 33 ms | 50 ms | shortlist: 35277\n",
      "47. |ec [65 63 ] | 30261 | 29 ms | 41 ms | shortlist: 23661\n",
      "48. | United [20 55 6e 69 74 65 64 ] | 29280 | 37 ms | 38 ms | shortlist: 179\n",
      "49. | countr [20 63 6f 75 6e 74 72 ] | 29200 | 23 ms | 24 ms | shortlist: 396\n",
      "50. |ce [63 65 ] | 28802 | 22 ms | 34 ms | shortlist: 22916\n",
      "51. |ve [76 65 ] | 27559 | 28 ms | 38 ms | shortlist: 23103\n",
      "52. |th [74 68 ] | 27060 | 29 ms | 38 ms | shortlist: 20976\n",
      "53. |il [69 6c ] | 26689 | 30 ms | 51 ms | shortlist: 39866\n",
      "54. | n [20 6e ] | 25629 | 29 ms | 34 ms | shortlist: 14177\n",
      "55. |as [61 73 ] | 24487 | 28 ms | 39 ms | shortlist: 28316\n",
      "56. | c [20 63 ] | 24219 | 29 ms | 40 ms | shortlist: 25113\n",
      "57. |ly [6c 79 ] | 23737 | 30 ms | 54 ms | shortlist: 67004\n",
      "58. | which [20 77 68 69 63 68 ] | 21612 | 32 ms | 34 ms | shortlist: 70\n",
      "59. |The [54 68 65 ] | 21534 | 19 ms | 20 ms | shortlist: 709\n",
      "60. | e [20 65 ] | 21186 | 25 ms | 33 ms | shortlist: 20876\n",
      "61. | with [20 77 69 74 68 ] | 20086 | 30 ms | 31 ms | shortlist: 428\n",
      "62. | be [20 62 65 ] | 19517 | 19 ms | 21 ms | shortlist: 3422\n",
      "63. | con [20 63 6f 6e ] | 19341 | 22 ms | 28 ms | shortlist: 15532\n",
      "64. | Nations [20 4e 61 74 69 6f 6e 73 ] | 19293 | 28 ms | 28 ms | shortlist: 169\n",
      "65. |ol [6f 6c ] | 19041 | 23 ms | 38 ms | shortlist: 28014\n",
      "66. | for [20 66 6f 72 ] | 18969 | 32 ms | 33 ms | shortlist: 2764\n",
      "67. | peace [20 70 65 61 63 65 ] | 18861 | 25 ms | 26 ms | shortlist: 560\n",
      "68. |im [69 6d ] | 18750 | 21 ms | 33 ms | shortlist: 25044\n",
      "69. | S [20 53 ] | 18740 | 39 ms | 51 ms | shortlist: 34360\n",
      "70. |un [75 6e ] | 18535 | 33 ms | 54 ms | shortlist: 52486\n",
      "71. |om [6f 6d ] | 18447 | 35 ms | 47 ms | shortlist: 24507\n",
      "72. | our [20 6f 75 72 ] | 18020 | 33 ms | 34 ms | shortlist: 105\n",
      "73. |ity [69 74 79 ] | 17666 | 23 ms | 30 ms | shortlist: 22114\n",
      "74. |op [6f 70 ] | 17612 | 32 ms | 38 ms | shortlist: 13822\n",
      "75. |ight [69 67 68 74 ] | 17439 | 27 ms | 30 ms | shortlist: 4526\n",
      "76. |ent [65 6e 74 ] | 17403 | 25 ms | 36 ms | shortlist: 22142\n",
      "77. | is [20 69 73 ] | 17387 | 29 ms | 30 ms | shortlist: 598\n",
      "78. |si [73 69 ] | 17314 | 29 ms | 41 ms | shortlist: 20486\n",
      "79. |ur [75 72 ] | 17310 | 29 ms | 39 ms | shortlist: 23313\n",
      "80. |se [73 65 ] | 17169 | 30 ms | 36 ms | shortlist: 13302\n",
      "81. | world [20 77 6f 72 6c 64 ] | 16743 | 30 ms | 30 ms | shortlist: 189\n",
      "82. |ra [72 61 ] | 16606 | 25 ms | 41 ms | shortlist: 31017\n",
      "83. | A [20 41 ] | 16520 | 31 ms | 40 ms | shortlist: 28477\n",
      "84. | th [20 74 68 ] | 15692 | 29 ms | 31 ms | shortlist: 2931\n",
      "85. |ul [75 6c ] | 15048 | 25 ms | 39 ms | shortlist: 26758\n",
      "86. | have [20 68 61 76 65 ] | 14872 | 33 ms | 33 ms | shortlist: 135\n",
      "87. | on [20 6f 6e ] | 14652 | 20 ms | 21 ms | shortlist: 988\n",
      "88. |ver [76 65 72 ] | 14535 | 21 ms | 29 ms | shortlist: 16746\n",
      "89. | I [20 49 ] | 14438 | 33 ms | 40 ms | shortlist: 20484\n",
      "90. |ir [69 72 ] | 14429 | 28 ms | 35 ms | shortlist: 15652\n",
      "91. | its [20 69 74 73 ] | 14242 | 28 ms | 29 ms | shortlist: 207\n",
      "92. |ies [69 65 73 ] | 13994 | 21 ms | 30 ms | shortlist: 24934\n",
      "93. | g [20 67 ] | 13537 | 33 ms | 38 ms | shortlist: 13479\n",
      "94. | l [20 6c ] | 13461 | 27 ms | 31 ms | shortlist: 10737\n",
      "95. | we [20 77 65 ] | 13103 | 28 ms | 29 ms | shortlist: 1630\n",
      "96. |port [70 6f 72 74 ] | 13034 | 24 ms | 25 ms | shortlist: 2687\n",
      "97. | C [20 43 ] | 12928 | 24 ms | 36 ms | shortlist: 31671\n",
      "98. |Organization [4f 72 67 61 6e 69 7a 61 74 69 6f 6e ] | 12894 | 28 ms | 28 ms | shortlist: 237\n",
      "99. | all [20 61 6c 6c ] | 12888 | 21 ms | 22 ms | shortlist: 772\n",
      "100. |de [64 65 ] | 12570 | 20 ms | 28 ms | shortlist: 20934\n",
      "Total time taken: 4 seconds\n",
      "Trie constructed\n",
      "eos_token <eos> 2\n",
      "unk_token <unk> 1\n",
      "pad_token <pad> 0\n"
     ]
    }
   ],
   "source": [
    "# text iterator can also yield batches of lists of list of str\n",
    "# this is useful if you want more control, i.e. using other strategies to split text\n",
    "# the default behavior embedded is regex.findall using regex pattern string as shown above\n",
    "# for decoding, the regex pattern does not matter\n",
    "\n",
    "GT_Train = GreedTok().train_new_from_iterator(\n",
    "    batch_iterator_split(), \n",
    "    vocab_size = 100,\n",
    "    special_tokens_map={\n",
    "        \"pad_token\":\"<pad>\",\n",
    "        \"unk_token\":\"<unk>\", \n",
    "        \"eos_token\":\"<eos>\"\n",
    "    },\n",
    "    min_word_count=1,\n",
    "    max_token_size=1000\n",
    ")"
   ]
  },
  {
   "cell_type": "code",
   "execution_count": 4,
   "id": "f5940d88",
   "metadata": {},
   "outputs": [
    {
     "name": "stdout",
     "output_type": "stream",
     "text": [
      "Trie constructed\n",
      "Word counts size: 103181\n",
      "Token set size: 0\n",
      "Empty token set size selected -> all possible substrings with...\n",
      "Max token size: 100\n",
      "Min. word count: 1\n",
      "Final candidate token set size: 678306\n",
      "Initial setup phase: 1736 ms\n",
      "0. |<pad> [3c 70 61 64 3e ] | 0\n",
      "1. |<unk> [3c 75 6e 6b 3e ] | 0\n",
      "2. |<eos> [3c 65 6f 73 3e ] | 0\n",
      "Starting main routine...\n",
      "4. | the [20 74 68 65 ] | 378447 | 88 ms | 107 ms | shortlist: 2947\n",
      "5. |tion [74 69 6f 6e ] | 206001 | 38 ms | 73 ms | shortlist: 68487\n",
      "6. | and [20 61 6e 64 ] | 157941 | 50 ms | 51 ms | shortlist: 612\n",
      "7. | of [20 6f 66 ] | 151426 | 27 ms | 28 ms | shortlist: 895\n",
      "8. |in [69 6e ] | 147507 | 28 ms | 114 ms | shortlist: 177067\n",
      "9. |re [72 65 ] | 119688 | 45 ms | 97 ms | shortlist: 98799\n",
      "10. | t [20 74 ] | 105344 | 39 ms | 50 ms | shortlist: 23658\n",
      "11. | a [20 61 ] | 99935 | 33 ms | 48 ms | shortlist: 39319\n",
      "12. |er [65 72 ] | 97867 | 35 ms | 93 ms | shortlist: 117395\n",
      "13. |en [65 6e ] | 94431 | 42 ms | 99 ms | shortlist: 95676\n",
      "14. | co [20 63 6f ] | 84160 | 39 ms | 56 ms | shortlist: 32292\n",
      "15. |it [69 74 ] | 81926 | 36 ms | 71 ms | shortlist: 61995\n",
      "16. |es [65 73 ] | 72455 | 37 ms | 88 ms | shortlist: 12283len:  100\n",
      "2\n",
      "17. |al [61 6c ] | 69333 | 47 ms | 99 ms | shortlist: 86304\n",
      "18. |or [6f 72 ] | 68611 | 36 ms | 68 ms | shortlist: 54859\n",
      "19. |an [61 6e ] | 67202 | 35 ms | 87 ms | shortlist: 96473\n",
      "20. |at [61 74 ] | 66125 | 37 ms | 79 ms | shortlist: 73386\n",
      "21. |on [6f 6e ] | 64805 | 41 ms | 78 ms | shortlist: 68985\n",
      "22. |is [69 73 ] | 64412 | 34 ms | 82 ms | shortlist: 84113\n",
      "23. | s [20 73 ] | 63990 | 35 ms | 60 ms | shortlist: 52816\n",
      "24. | w [20 77 ] | 62224 | 35 ms | 43 ms | shortlist: 10501\n",
      "25. |ed [65 64 ] | 59451 | 31 ms | 72 ms | shortlist: 93981\n",
      "26. | p [20 70 ] | 58455 | 36 ms | 58 ms | shortlist: 46311\n",
      "27. | in [20 69 6e ] | 54935 | 36 ms | 51 ms | shortlist: 34117\n",
      "28. | to [20 74 6f ] | 51576 | 31 ms | 34 ms | shortlist: 2337\n",
      "29. |ic [69 63 ] | 48340 | 29 ms | 63 ms | shortlist: 61639\n",
      "30. |ation [61 74 69 6f 6e ] | 48065 | 32 ms | 58 ms | shortlist: 52614\n",
      "31. |ar [61 72 ] | 47885 | 30 ms | 66 ms | shortlist: 69544\n",
      "32. |ou [6f 75 ] | 46958 | 35 ms | 55 ms | shortlist: 42466\n",
      "33. |ing [69 6e 67 ] | 46444 | 30 ms | 83 ms | shortlist: 111562\n",
      "34. | f [20 66 ] | 46001 | 34 ms | 45 ms | shortlist: 21768\n",
      "35. | b [20 62 ] | 43592 | 30 ms | 40 ms | shortlist: 24015\n",
      "36. |ment [6d 65 6e 74 ] | 43388 | 35 ms | 48 ms | shortlist: 22246\n",
      "37. | that [20 74 68 61 74 ] | 39040 | 29 ms | 31 ms | shortlist: 405\n",
      "38. |le [6c 65 ] | 38804 | 22 ms | 42 ms | shortlist: 47561\n",
      "39. |develop [64 65 76 65 6c 6f 70 ] | 37428 | 31 ms | 33 ms | shortlist: 957\n",
      "40. | m [20 6d ] | 35318 | 27 ms | 41 ms | shortlist: 31636\n",
      "41. | h [20 68 ] | 34765 | 31 ms | 37 ms | shortlist: 17709\n",
      "42. |st [73 74 ] | 33528 | 29 ms | 48 ms | shortlist: 37576\n",
      "43. | re [20 72 65 ] | 33237 | 35 ms | 49 ms | shortlist: 33190\n",
      "44. |ternational [74 65 72 6e 61 74 69 6f 6e 61 6c ] | 31456 | 32 ms | 34 ms | shortlist: 814\n",
      "45. | d [20 64 ] | 31348 | 22 ms | 38 ms | shortlist: 43500\n",
      "46. |ro [72 6f ] | 30484 | 32 ms | 50 ms | shortlist: 35277\n",
      "47. |ec [65 63 ] | 30261 | 29 ms | 41 ms | shortlist: 23661\n",
      "48. | United [20 55 6e 69 74 65 64 ] | 29280 | 29 ms | 30 ms | shortlist: 179\n",
      "49. | countr [20 63 6f 75 6e 74 72 ] | 29200 | 21 ms | 21 ms | shortlist: 396\n",
      "50. |ce [63 65 ] | 28802 | 18 ms | 29 ms | shortlist: 22916\n",
      "51. |ve [76 65 ] | 27558 | 32 ms | 42 ms | shortlist: 23101\n",
      "52. |th [74 68 ] | 27061 | 30 ms | 38 ms | shortlist: 20976\n",
      "53. |il [69 6c ] | 26688 | 33 ms | 53 ms | shortlist: 39866\n",
      "54. | n [20 6e ] | 25629 | 33 ms | 39 ms | shortlist: 14177\n",
      "55. |as [61 73 ] | 24487 | 30 ms | 42 ms | shortlist: 28316\n",
      "56. | c [20 63 ] | 24219 | 35 ms | 46 ms | shortlist: 25113\n",
      "57. |ly [6c 79 ] | 23737 | 31 ms | 55 ms | shortlist: 67004\n",
      "58. | which [20 77 68 69 63 68 ] | 21612 | 37 ms | 39 ms | shortlist: 70\n",
      "59. |The [54 68 65 ] | 21534 | 24 ms | 25 ms | shortlist: 709\n",
      "60. | e [20 65 ] | 21186 | 22 ms | 30 ms | shortlist: 20876\n",
      "61. | with [20 77 69 74 68 ] | 20086 | 27 ms | 28 ms | shortlist: 428\n",
      "62. | be [20 62 65 ] | 19517 | 18 ms | 20 ms | shortlist: 3422\n",
      "63. | con [20 63 6f 6e ] | 19341 | 22 ms | 28 ms | shortlist: 15532\n",
      "64. | Nations [20 4e 61 74 69 6f 6e 73 ] | 19293 | 25 ms | 26 ms | shortlist: 169\n",
      "65. |ol [6f 6c ] | 19041 | 21 ms | 34 ms | shortlist: 28014\n",
      "66. | for [20 66 6f 72 ] | 18969 | 28 ms | 29 ms | shortlist: 2764\n",
      "67. | peace [20 70 65 61 63 65 ] | 18861 | 29 ms | 30 ms | shortlist: 560\n",
      "68. |im [69 6d ] | 18750 | 25 ms | 38 ms | shortlist: 25044\n",
      "69. | S [20 53 ] | 18740 | 29 ms | 40 ms | shortlist: 34360\n",
      "70. |un [75 6e ] | 18535 | 28 ms | 49 ms | shortlist: 52486\n",
      "71. |om [6f 6d ] | 18447 | 42 ms | 56 ms | shortlist: 24507\n",
      "72. | our [20 6f 75 72 ] | 18020 | 30 ms | 31 ms | shortlist: 105\n",
      "73. |ity [69 74 79 ] | 17665 | 19 ms | 27 ms | shortlist: 22114\n",
      "74. |op [6f 70 ] | 17612 | 26 ms | 32 ms | shortlist: 13822\n",
      "75. |ight [69 67 68 74 ] | 17439 | 30 ms | 33 ms | shortlist: 4526\n",
      "76. |ent [65 6e 74 ] | 17403 | 29 ms | 40 ms | shortlist: 22142\n",
      "77. | is [20 69 73 ] | 17387 | 29 ms | 30 ms | shortlist: 598\n",
      "78. |si [73 69 ] | 17313 | 20 ms | 31 ms | shortlist: 20486\n",
      "79. |ur [75 72 ] | 17310 | 26 ms | 36 ms | shortlist: 23313\n",
      "80. |se [73 65 ] | 17170 | 27 ms | 33 ms | shortlist: 13302\n",
      "81. | world [20 77 6f 72 6c 64 ] | 16743 | 26 ms | 27 ms | shortlist: 189\n",
      "82. |ra [72 61 ] | 16606 | 21 ms | 37 ms | shortlist: 31017\n",
      "83. | A [20 41 ] | 16520 | 28 ms | 37 ms | shortlist: 28477\n",
      "84. | th [20 74 68 ] | 15692 | 27 ms | 29 ms | shortlist: 2931\n",
      "85. |ul [75 6c ] | 15048 | 23 ms | 36 ms | shortlist: 26763\n",
      "86. | have [20 68 61 76 65 ] | 14872 | 30 ms | 31 ms | shortlist: 135\n",
      "87. | on [20 6f 6e ] | 14652 | 18 ms | 18 ms | shortlist: 988\n",
      "88. |ver [76 65 72 ] | 14535 | 20 ms | 28 ms | shortlist: 16746\n",
      "89. | I [20 49 ] | 14438 | 27 ms | 34 ms | shortlist: 20484\n",
      "90. |ir [69 72 ] | 14429 | 25 ms | 32 ms | shortlist: 15652\n",
      "91. | its [20 69 74 73 ] | 14242 | 27 ms | 27 ms | shortlist: 207\n",
      "92. |ies [69 65 73 ] | 13994 | 21 ms | 30 ms | shortlist: 24934\n",
      "93. | g [20 67 ] | 13537 | 33 ms | 38 ms | shortlist: 13479\n",
      "94. | l [20 6c ] | 13461 | 27 ms | 32 ms | shortlist: 10737\n",
      "95. | we [20 77 65 ] | 13103 | 25 ms | 26 ms | shortlist: 1630\n",
      "96. |port [70 6f 72 74 ] | 13034 | 23 ms | 24 ms | shortlist: 2687\n",
      "97. | C [20 43 ] | 12928 | 22 ms | 34 ms | shortlist: 31671\n",
      "98. |Organization [4f 72 67 61 6e 69 7a 61 74 69 6f 6e ] | 12894 | 30 ms | 31 ms | shortlist: 237\n",
      "99. | all [20 61 6c 6c ] | 12888 | 21 ms | 22 ms | shortlist: 772\n",
      "100. |de [64 65 ] | 12570 | 20 ms | 28 ms | shortlist: 20934\n",
      "Total time taken: 4 seconds\n",
      "Trie constructed\n",
      "eos_token <eos> 2\n",
      "unk_token <unk> 1\n",
      "pad_token <pad> 0\n"
     ]
    }
   ],
   "source": [
    "# we can change the regex pattern, we can pass the desired into 'pattern'\n",
    "# we can also set the no. of workers to speed up splitting (default is 8)\n",
    "\n",
    "GT_Train = GreedTok().train_new_from_iterator(\n",
    "    batch_iterator(), \n",
    "    vocab_size = 100,\n",
    "    special_tokens_map={\n",
    "        \"pad_token\":\"<pad>\",\n",
    "        \"unk_token\":\"<unk>\", \n",
    "        \"eos_token\":\"<eos>\"\n",
    "    },\n",
    "    min_word_count=1,\n",
    "    max_token_size=1000,\n",
    "    pattern = r\"\"\" ?[\\p{L}]+| ?[\\p{N}]+| ?[^\\s\\p{L}\\p{N}]+|\\s+(?!\\S)|\\s+\"\"\",\n",
    "    workers = 10\n",
    ")"
   ]
  },
  {
   "cell_type": "code",
   "execution_count": 5,
   "id": "6691bc3a",
   "metadata": {},
   "outputs": [
    {
     "name": "stdout",
     "output_type": "stream",
     "text": [
      "tokenizer config file saved in pcatt/hf/examples/greedtok_test2/tokenizer_config.json\n",
      "special_tokens_map file saved in pcatt/hf/examples/greedtok_test2/special_tokens_map.json\n",
      "added tokens file saved in pcatt/hf/examples/greedtok_test2/added_tokens.txt\n"
     ]
    },
    {
     "data": {
      "text/plain": [
       "('pcatt/hf/examples/greedtok_test2/tokenizer_config.json',\n",
       " 'pcatt/hf/examples/greedtok_test2/special_tokens_map.json',\n",
       " 'pcatt/hf/examples/greedtok_test2/added_tokens.txt')"
      ]
     },
     "execution_count": 5,
     "metadata": {},
     "output_type": "execute_result"
    }
   ],
   "source": [
    "# to save\n",
    "\n",
    "GT_Train.save_pretrained('pcatt/hf/examples/greedtok_test2')"
   ]
  },
  {
   "cell_type": "code",
   "execution_count": 6,
   "id": "ba963b06",
   "metadata": {},
   "outputs": [
    {
     "name": "stdout",
     "output_type": "stream",
     "text": [
      "regex.Regex(' ?[\\\\p{L}]+| ?[\\\\p{N}]+| ?[^\\\\s\\\\p{L}\\\\p{N}]+|\\\\s+(?!\\\\S)|\\\\s+', flags=regex.V0)Trie constructed\n",
      "unk_token <unk> 1\n",
      "pad_token <pad> 0\n",
      "eos_token <eos> 2\n",
      "\n"
     ]
    }
   ],
   "source": [
    "# loading pretrained\n",
    "\n",
    "from pcatt.hf.greedtok import GreedTok\n",
    "GT_Train = GreedTok.from_pretrained(\"pcatt/hf/examples/greedtok_test2\")\n",
    "print(GT_Train.pat)"
   ]
  },
  {
   "cell_type": "code",
   "execution_count": 7,
   "id": "6ce9a59a",
   "metadata": {},
   "outputs": [],
   "source": [
    "test = [x for x in next(batch_iterator())]\n",
    "test_split = [x for x in next(batch_iterator_split())]"
   ]
  },
  {
   "cell_type": "code",
   "execution_count": 8,
   "id": "9bce1d59",
   "metadata": {},
   "outputs": [
    {
     "name": "stdout",
     "output_type": "stream",
     "text": [
      "[176, 201, 216, 39, 201, 62, 203, 214, 19, 84, 19, 201, 132, 221, 31, 146, 68, 89, 144, 5, 3, 132, 182, 201, 212, 217, 198, 208, 28, 132, 110, 211, 202, 132, 166, 84, 203, 30, 205, 197, 132, 217, 212, 20, 132, 221, 31, 214, 59, 37, 199, 4, 10, 215, 132, 180, 8, 77, 200, 75, 6, 3, 132, 171, 12, 11, 16, 82, 215, 79, 209, 198, 56, 10, 216, 90, 132, 110, 202, 17, 216, 221, 145, 79, 218, 12, 51, 22, 15, 77, 20, 146, 132, 189, 31, 214, 59, 220, 212, 11]\n",
      "Let me congratulate you. Sir, and the Republic \n",
      "of Bulgaria upon your election as President of the General Assembly at its \n",
      "forty-seventh session. Your experience as a respected political leader and \n",
      "\n"
     ]
    }
   ],
   "source": [
    "test_encode = GT_Train(test_split[:50], test_split[50:100], is_split_into_words=True)\n",
    "print(test_encode['input_ids'][1][:100])\n",
    "test_decode = GT_Train.batch_decode(test_encode['input_ids'])\n",
    "print(test_decode[1][:200])"
   ]
  },
  {
   "cell_type": "code",
   "execution_count": 9,
   "id": "3040e5c7",
   "metadata": {},
   "outputs": [
    {
     "name": "stdout",
     "output_type": "stream",
     "text": [
      "[173, 216, 92, 205, 218, 15, 39, 201, 25, 37, 54, 217, 8, 10, 216, 3, 132, 31, 216, 79, 216, 27, 132, 206, 211, 7, 3, 22, 212, 201, 197, 207, 11, 215, 23, 204, 211, 25, 8, 199, 24, 24, 132, 110, 209, 201, 26, 62, 203, 214, 19, 84, 19, 32, 132, 221, 31, 146, 68, 89, 144, 86, 132, 221, 31, 214, 59, 37, 199, 4, 27, 3, 25, 8, 77, 200, 12, 199, 221, 6, 3, 132, 110, 171, 12, 11, 16, 82, 215, 79, 209, 198, 56, 10, 216, 90, 65, 216, 221, 145]\n",
      "It gives me pleasure at the outset to join the speakers who preceded \n",
      "me in congratulating you. Sir, on your election to the presidency of the \n",
      "General Assembly at its forty-seventh session. My delega\n"
     ]
    }
   ],
   "source": [
    "test_encode = GT_Train(test[:10], test[10:20], is_split_into_words=False)\n",
    "print(test_encode['input_ids'][0][:100])\n",
    "test_decode = GT_Train.batch_decode(test_encode['input_ids'])\n",
    "print(test_decode[0][:200])"
   ]
  },
  {
   "cell_type": "code",
   "execution_count": 10,
   "id": "ced8d047",
   "metadata": {
    "scrolled": true
   },
   "outputs": [
    {
     "name": "stdout",
     "output_type": "stream",
     "text": [
      "[173, 216, 92, 205, 218, 15, 39, 201, 25, 37, 54, 217, 8, 10, 216, 3, 132, 31, 216, 79, 216, 27, 132, 206, 211, 7, 3, 22, 212, 201, 197, 207, 11, 215, 23, 204, 211, 25, 8, 199, 24, 24, 132, 110, 209, 201, 26, 62, 203, 214, 19, 84, 19, 32, 132, 221, 31, 146, 68, 89, 144, 86, 132, 221, 31, 214, 59, 37, 199, 4, 27, 3, 25, 8, 77, 200, 12, 199, 221, 6, 3, 132, 110, 171, 12, 11, 16, 82, 215, 79, 209, 198, 56, 10, 216, 90, 65, 216, 221, 145]\n",
      "It gives me pleasure at the outset to join the speakers who preceded \n",
      "me in congratulating you. Sir, on your election to the presidency of the \n",
      "General Assembly at its forty-seventh session. My delega\n"
     ]
    }
   ],
   "source": [
    "test_encode = GT_Train(test, is_split_into_words=False)\n",
    "print(test_encode['input_ids'][0][:100])\n",
    "test_decode = GT_Train.batch_decode(test_encode['input_ids'])\n",
    "print(test_decode[0][:200])"
   ]
  },
  {
   "cell_type": "code",
   "execution_count": 11,
   "id": "60cfc38c",
   "metadata": {},
   "outputs": [
    {
     "name": "stdout",
     "output_type": "stream",
     "text": [
      "[173, 216, 92, 205, 218, 15, 39, 201, 25, 37, 54, 217, 8, 10, 216, 3, 132, 31, 216, 79, 216, 27, 132, 206, 211, 7, 3, 22, 212, 201, 197, 207, 11, 215, 23, 204, 211, 25, 8, 199, 24, 24, 132, 110, 209, 201, 26, 62, 203, 214, 19, 84, 19, 32, 132, 221, 31, 146, 68, 89, 144, 86, 132, 221, 31, 214, 59, 37, 199, 4, 27, 3, 25, 8, 77, 200, 12, 199, 221, 6, 3, 132, 110, 171, 12, 11, 16, 82, 215, 79, 209, 198, 56, 10, 216, 90, 65, 216, 221, 145]\n",
      "It gives me pleasure at the outset to join the speakers who preceded \n",
      "me in congratulating you. Sir, on your election to the presidency of the \n",
      "General Assembly at its forty-seventh session. My delega\n"
     ]
    }
   ],
   "source": [
    "test_encode = GT_Train(test_split, is_split_into_words=True)\n",
    "print(test_encode['input_ids'][0][:100])\n",
    "test_decode = GT_Train.batch_decode(test_encode['input_ids'])\n",
    "print(test_decode[0][:200])"
   ]
  },
  {
   "cell_type": "code",
   "execution_count": 12,
   "id": "3ac68d82",
   "metadata": {},
   "outputs": [
    {
     "name": "stdout",
     "output_type": "stream",
     "text": [
      "Trie constructed\n",
      "eos_token <eos> 8\n",
      "pad_token <pad> 7\n",
      "tokenizer config file saved in pcatt/hf/examples/greedtok_test1/tokenizer_config.json\n",
      "special_tokens_map file saved in pcatt/hf/examples/greedtok_test1/special_tokens_map.json\n",
      "added tokens file saved in pcatt/hf/examples/greedtok_test1/added_tokens.txt\n"
     ]
    },
    {
     "data": {
      "text/plain": [
       "('pcatt/hf/examples/greedtok_test1/tokenizer_config.json',\n",
       " 'pcatt/hf/examples/greedtok_test1/special_tokens_map.json',\n",
       " 'pcatt/hf/examples/greedtok_test1/added_tokens.txt')"
      ]
     },
     "execution_count": 12,
     "metadata": {},
     "output_type": "execute_result"
    }
   ],
   "source": [
    "from pcatt.hf.greedtok import GreedTok\n",
    "GT = GreedTok(ranked_tokens = ['aa', 'bb', 'abc', 'bc', '12', '123', '34', \"<pad>\", \"<eos>\"],\n",
    "         special_tokens_map = {\"pad_token\":\"<pad>\", \"eos_token\":\"<eos>\"})\n",
    "GT.save_pretrained(\"pcatt/hf/examples/greedtok_test1\")"
   ]
  },
  {
   "cell_type": "code",
   "execution_count": 13,
   "id": "bb22886b",
   "metadata": {
    "scrolled": true
   },
   "outputs": [
    {
     "name": "stdout",
     "output_type": "stream",
     "text": [
      "Trie constructed\n",
      "pad_token <pad> 7\n",
      "eos_token <eos> 8\n"
     ]
    }
   ],
   "source": [
    "from pcatt.hf.greedtok import GreedTok\n",
    "GT2 = GreedTok.from_pretrained(\"pcatt/hf/examples/greedtok_test1\")"
   ]
  },
  {
   "cell_type": "code",
   "execution_count": 14,
   "id": "3cae3a09",
   "metadata": {
    "scrolled": false
   },
   "outputs": [
    {
     "name": "stdout",
     "output_type": "stream",
     "text": [
      "['aabb', 'bbabc', 'bc12<pad>']\n",
      "['bc12', '\\\\xbfbb\\\\xd5']\n"
     ]
    }
   ],
   "source": [
    "#basic decoding\n",
    "print(GT2.batch_decode([[0,1], [1,2], [3,4,7]]))\n",
    "print(GT2.batch_decode([[3,4,7,8], [200,1,222]], skip_special_tokens=True))"
   ]
  },
  {
   "cell_type": "code",
   "execution_count": 15,
   "id": "e1fc7acc",
   "metadata": {
    "scrolled": true
   },
   "outputs": [
    {
     "data": {
      "text/plain": [
       "{'input_ids': [[0, 3], [0, 5, 61], [106, 107, 127]]}"
      ]
     },
     "execution_count": 15,
     "metadata": {},
     "output_type": "execute_result"
    }
   ],
   "source": [
    "# testing __call__\n",
    "GT2([\"aabc\", \"aa1234\", \"abv\"], is_split_into_words=False)"
   ]
  },
  {
   "cell_type": "code",
   "execution_count": 16,
   "id": "dbe54ea5",
   "metadata": {
    "scrolled": true
   },
   "outputs": [
    {
     "data": {
      "text/plain": [
       "{'input_ids': [[0, 3], [0, 5, 61], [106, 107, 127]]}"
      ]
     },
     "execution_count": 16,
     "metadata": {},
     "output_type": "execute_result"
    }
   ],
   "source": [
    "# testing __call__ presplit\n",
    "GT2([[\"aa\",\"bc\"], [\"aa\", \"123\", \"4\"], [\"ab\",\"v\"]], is_split_into_words=True)"
   ]
  },
  {
   "cell_type": "code",
   "execution_count": 17,
   "id": "c5119f01",
   "metadata": {
    "scrolled": true
   },
   "outputs": [
    {
     "name": "stdout",
     "output_type": "stream",
     "text": [
      "special_tokens_mask\n",
      "\t 2 :  [0, 0]\n",
      "\t 5 :  [1, 0, 0, 0, 1]\n",
      "\t 4 :  [0, 0, 0, 1]\n",
      "input_ids\n",
      "\t 2 :  [0, 3]\n",
      "\t 5 :  [7, 0, 5, 61, 8]\n",
      "\t 4 :  [106, 107, 127, 7]\n"
     ]
    }
   ],
   "source": [
    "# testing __call__ no padding and no truncation\n",
    "outputs = GT2([\"aabc\", \"<pad>aa1234<eos>\", \"abv<pad>\"], \n",
    "    is_split_into_words=False, \n",
    "    padding=False,\n",
    "    return_attention_mask=True,\n",
    "    return_special_tokens_mask=True,\n",
    "    max_length = 10)\n",
    "for k,v in outputs.items():\n",
    "    print(k)\n",
    "    for o in v:\n",
    "        print('\\t', len(o), ': ', o)"
   ]
  },
  {
   "cell_type": "code",
   "execution_count": 18,
   "id": "c5c83dd4",
   "metadata": {},
   "outputs": [
    {
     "name": "stdout",
     "output_type": "stream",
     "text": [
      "special_tokens_mask\n",
      "\t 10 :  [0, 0, 1, 1, 1, 1, 1, 1, 1, 1]\n",
      "\t 10 :  [0, 0, 0, 1, 1, 1, 1, 1, 1, 1]\n",
      "\t 10 :  [0, 0, 0, 1, 1, 1, 1, 1, 1, 1]\n",
      "\t 10 :  [0, 0, 0, 1, 0, 0, 0, 1, 0, 0]\n",
      "overflowing_tokens\n",
      "\t 0 :  []\n",
      "\t 0 :  []\n",
      "\t 0 :  []\n",
      "\t 5 :  [127, 7, 0, 5, 61]\n",
      "attention_mask\n",
      "\t 10 :  [1, 1, 0, 0, 0, 0, 0, 0, 0, 0]\n",
      "\t 10 :  [1, 1, 1, 0, 0, 0, 0, 0, 0, 0]\n",
      "\t 10 :  [1, 1, 1, 1, 0, 0, 0, 0, 0, 0]\n",
      "\t 10 :  [1, 1, 1, 1, 1, 1, 1, 1, 1, 1]\n",
      "input_ids\n",
      "\t 10 :  [0, 3, 7, 7, 7, 7, 7, 7, 7, 7]\n",
      "\t 10 :  [0, 5, 61, 7, 7, 7, 7, 7, 7, 7]\n",
      "\t 10 :  [106, 107, 127, 7, 7, 7, 7, 7, 7, 7]\n",
      "\t 10 :  [106, 107, 127, 7, 106, 107, 127, 7, 106, 107]\n"
     ]
    }
   ],
   "source": [
    "# testing __call__ with padding and truncation\n",
    "outputs = GT2([\"aabc\", \n",
    "               \"aa1234\",\n",
    "               \"abv<pad>\",\n",
    "               \"abv<pad>abv<pad>abv<pad>aa1234\"], \n",
    "    is_split_into_words=False, \n",
    "    padding=\"max_length\",\n",
    "    truncation = \"longest_first\",\n",
    "    return_overflowing_tokens=True,\n",
    "    return_attention_mask=True,\n",
    "    return_special_tokens_mask=True,\n",
    "    max_length = 10)\n",
    "for k,v in outputs.items():\n",
    "    print(k)\n",
    "    for o in v:\n",
    "        print('\\t', len(o), ': ', o)"
   ]
  },
  {
   "cell_type": "code",
   "execution_count": 19,
   "id": "feb1659f",
   "metadata": {},
   "outputs": [
    {
     "name": "stdout",
     "output_type": "stream",
     "text": [
      "input_ids\n",
      "\t 7 :  [0, 3, 41, 106, 107, 127, 7]\n",
      "\t 19 :  [0, 5, 61, 41, 106, 107, 127, 7, 106, 107, 127, 7, 106, 107, 127, 7, 0, 5, 61]\n"
     ]
    }
   ],
   "source": [
    "# testing pairs\n",
    "outputs = GT2([\"aabc\", \"aa1234\"],\n",
    "               [\"abv<pad>\", \"abv<pad>abv<pad>abv<pad>aa1234\"])\n",
    "for k,v in outputs.items():\n",
    "    print(k)\n",
    "    for o in v:\n",
    "        print('\\t', len(o), ': ', o)"
   ]
  },
  {
   "cell_type": "code",
   "execution_count": 20,
   "id": "c4af80ad",
   "metadata": {},
   "outputs": [
    {
     "name": "stdout",
     "output_type": "stream",
     "text": [
      "input_ids\n",
      "\t 7 :  [0, 3, 41, 106, 107, 127, 7]\n",
      "\t 19 :  [0, 5, 61, 41, 106, 107, 127, 7, 106, 107, 127, 7, 106, 107, 127, 7, 0, 5, 61]\n"
     ]
    }
   ],
   "source": [
    "# testing pairs with presplit words\n",
    "outputs = GT2([[\"aa\",\"bc\"], [\"aa\",\"1234\"]],\n",
    "               [[\"abv\", \"<pad>\"], [\"abv<pad>abv<pad>\",\"abv<pad>\",\"aa1234\"]],\n",
    "             is_split_into_words=True)\n",
    "for k,v in outputs.items():\n",
    "    print(k)\n",
    "    for o in v:\n",
    "        print('\\t', len(o), ': ', o)"
   ]
  },
  {
   "cell_type": "code",
   "execution_count": 21,
   "id": "a36aebe6",
   "metadata": {},
   "outputs": [
    {
     "name": "stdout",
     "output_type": "stream",
     "text": [
      "special_tokens_mask\n",
      "\t 10 :  [0, 0, 0, 0, 0, 0, 1, 1, 1, 1]\n",
      "\t 11 :  [0, 0, 0, 0, 0, 0, 0, 1, 0, 0, 0]\n",
      "token_type_ids\n",
      "\t 10 :  [0, 0, 1, 1, 1, 1, 1, 7, 7, 7]\n",
      "\t 11 :  [0, 0, 0, 1, 1, 1, 1, 1, 1, 1, 1]\n",
      "attention_mask\n",
      "\t 10 :  [1, 1, 1, 1, 1, 1, 1, 0, 0, 0]\n",
      "\t 11 :  [1, 1, 1, 1, 1, 1, 1, 1, 1, 1, 1]\n",
      "input_ids\n",
      "\t 10 :  [0, 3, 41, 106, 107, 127, 7, 7, 7, 7]\n",
      "\t 11 :  [0, 5, 61, 41, 106, 107, 127, 7, 106, 107, 127]\n"
     ]
    }
   ],
   "source": [
    "outputs = GT2([[\"aa\",\"bc\"], [\"aa\",\"1234\"]],\n",
    "               [[\"abv\", \"<pad>\"], [\"abv<pad>abv<pad>\",\"abv<pad>\",\"aa1234\"]],\n",
    "             is_split_into_words=True, \n",
    "    padding=\"max_length\",\n",
    "    truncation = \"only_second\",\n",
    "    return_token_type_ids=True,\n",
    "    return_overflowing_tokens=True,\n",
    "    return_attention_mask=True,\n",
    "    return_special_tokens_mask=True,\n",
    "    max_length = 10)\n",
    "for k,v in outputs.items():\n",
    "    print(k)\n",
    "    for o in v:\n",
    "        print('\\t', len(o), ': ', o)"
   ]
  },
  {
   "cell_type": "code",
   "execution_count": 22,
   "id": "f97ea7fc",
   "metadata": {
    "scrolled": true
   },
   "outputs": [
    {
     "name": "stdout",
     "output_type": "stream",
     "text": [
      "Trie constructed\n",
      "Word counts size: 105505\n",
      "Token set size: 0\n",
      "Empty token set size selected -> all possible substrings with...\n",
      "Max token size: 5\n",
      "Min. word count: 1\n",
      "Final candidate token set size: 81136\n",
      "Initial setup phase: 591 ms\n",
      "Starting main routine...\n",
      "1. |Ġ [c4 a0 ] | 30035114 | 38 ms | 237 ms | shortlist: 75764\n",
      "2. |Ġth [c4 a0 74 68 ] | 7109102 | 19 ms | 22 ms | shortlist: 1864\n",
      "3. |tion [74 69 6f 6e ] | 4043268 | 13 ms | 29 ms | shortlist: 7700\n",
      "4. |Ġof [c4 a0 6f 66 ] | 3300812 | 12 ms | 12 ms | shortlist: 371\n",
      "5. |Ġa [c4 a0 61 ] | 3259093 | 8 ms | 15 ms | shortlist: 7092\n",
      "6. |in [69 6e ] | 2782359 | 13 ms | 65 ms | shortlist: 21307\n",
      "7. |re [72 65 ] | 2384688 | 15 ms | 43 ms | shortlist: 13589\n",
      "8. |Ġto [c4 a0 74 6f ] | 2228162 | 13 ms | 14 ms | shortlist: 1091\n",
      "9. |er [65 72 ] | 1910725 | 7 ms | 38 ms | shortlist: 16660\n",
      "10. |en [65 6e ] | 1831877 | 13 ms | 44 ms | shortlist: 13572\n",
      "11. |Ġco [c4 a0 63 6f ] | 1782132 | 13 ms | 19 ms | shortlist: 4574\n",
      "12. |it [69 74 ] | 1622191 | 9 ms | 25 ms | shortlist:len:  100\n",
      " 9596\n",
      "13. |nd [6e 64 ] | 1484027 | 11 ms | 20 ms | shortlist: 7050\n",
      "14. |Ġw [c4 a0 77 ] | 1404713 | 10 ms | 13 ms | shortlist: 3251\n",
      "15. |es [65 73 ] | 1403373 | 10 ms | 38 ms | shortlist: 18006\n",
      "16. |Ġs [c4 a0 73 ] | 1363207 | 13 ms | 25 ms | shortlist: 9055\n",
      "17. |or [6f 72 ] | 1319039 | 10 ms | 26 ms | shortlist: 9982\n",
      "18. |at [61 74 ] | 1291572 | 12 ms | 34 ms | shortlist: 11122\n",
      "19. |is [69 73 ] | 1281159 | 13 ms | 37 ms | shortlist: 11905\n",
      "20. |al [61 6c ] | 1279005 | 13 ms | 36 ms | shortlist: 12506\n",
      "21. |Ġp [c4 a0 70 ] | 1251643 | 12 ms | 22 ms | shortlist: 7315\n",
      "22. |on [6f 6e ] | 1189311 | 10 ms | 28 ms | shortlist: 11432\n",
      "23. |Ġin [c4 a0 69 6e ] | 1158876 | 10 ms | 16 ms | shortlist: 4387\n",
      "24. |ed [65 64 ] | 1137380 | 10 ms | 37 ms | shortlist: 15151\n",
      "25. |an [61 6e ] | 1029701 | 12 ms | 33 ms | shortlist: 15569\n",
      "26. |Ġf [c4 a0 66 ] | 980142 | 11 ms | 16 ms | shortlist: 4835\n",
      "27. |Ġbe [c4 a0 62 65 ] | 957046 | 9 ms | 10 ms | shortlist: 1181\n",
      "28. |ic [69 63 ] | 949111 | 6 ms | 21 ms | shortlist: 9835\n",
      "29. |ou [6f 75 ] | 925779 | 12 ms | 23 ms | shortlist: 8741\n",
      "30. |ar [61 72 ] | 877629 | 9 ms | 27 ms | shortlist: 12598\n",
      "31. |ment [6d 65 6e 74 ] | 871122 | 10 ms | 15 ms | shortlist: 3752\n",
      "32. |ing [69 6e 67 ] | 814643 | 9 ms | 34 ms | shortlist: 15732\n",
      "33. |Ġd [c4 a0 64 ] | 776407 | 11 ms | 20 ms | shortlist: 6508\n",
      "34. |Ġm [c4 a0 6d ] | 768147 | 9 ms | 16 ms | shortlist: 5889\n",
      "35. |le [6c 65 ] | 761238 | 9 ms | 22 ms | shortlist: 9339\n",
      "36. |Ġha [c4 a0 68 61 ] | 743422 | 10 ms | 10 ms | shortlist: 976\n",
      "37. |Ġre [c4 a0 72 65 ] | 691607 | 7 ms | 13 ms | shortlist: 4736\n",
      "38. |ve [76 65 ] | 674520 | 8 ms | 14 ms | shortlist: 5102\n",
      "39. |st [73 74 ] | 639635 | 9 ms | 19 ms | shortlist: 6894\n",
      "40. |ro [72 6f ] | 583331 | 10 ms | 19 ms | shortlist: 6713\n",
      "41. |ce [63 65 ] | 568796 | 9 ms | 15 ms | shortlist: 4967\n",
      "42. |Ġn [c4 a0 6e ] | 555826 | 8 ms | 11 ms | shortlist: 3426\n",
      "43. |Ġe [c4 a0 65 ] | 533333 | 9 ms | 14 ms | shortlist: 4089\n",
      "44. |il [69 6c ] | 507782 | 8 ms | 19 ms | shortlist: 7720\n",
      "45. |untr [75 6e 74 72 ] | 485733 | 11 ms | 11 ms | shortlist: 317\n",
      "46. |Ġc [c4 a0 63 ] | 483397 | 4 ms | 10 ms | shortlist: 5282\n",
      "47. |op [6f 70 ] | 478088 | 9 ms | 13 ms | shortlist: 3417\n",
      "48. |Ġb [c4 a0 62 ] | 468378 | 7 ms | 12 ms | shortlist: 5066\n",
      "49. |ly [6c 79 ] | 466512 | 8 ms | 20 ms | shortlist: 10631\n",
      "50. |he [68 65 ] | 460877 | 10 ms | 14 ms | shortlist: 5354\n",
      "51. |ec [65 63 ] | 452454 | 9 ms | 14 ms | shortlist: 3937\n",
      "52. |ter [74 65 72 ] | 414456 | 9 ms | 16 ms | shortlist: 4386\n",
      "53. |Ġis [c4 a0 69 73 ] | 387692 | 11 ms | 11 ms | shortlist: 246\n",
      "54. |ĠUn [c4 a0 55 6e ] | 385922 | 5 ms | 6 ms | shortlist: 1508\n",
      "55. |th [74 68 ] | 377521 | 7 ms | 12 ms | shortlist: 4361\n",
      "56. |hich [68 69 63 68 ] | 374248 | 8 ms | 8 ms | shortlist: 172\n",
      "57. |si [73 69 ] | 361837 | 4 ms | 10 ms | shortlist: 4372\n",
      "58. |im [69 6d ] | 357124 | 9 ms | 15 ms | shortlist: 5072\n",
      "59. |se [73 65 ] | 346315 | 10 ms | 14 ms | shortlist: 4451\n",
      "60. |ent [65 6e 74 ] | 343740 | 7 ms | 13 ms | shortlist: 4028\n",
      "61. |om [6f 6d ] | 341222 | 8 ms | 15 ms | shortlist: 5196\n",
      "62. |Ġt [c4 a0 74 ] | 340830 | 8 ms | 12 ms | shortlist: 4239\n",
      "63. |ol [6f 6c ] | 340056 | 7 ms | 15 ms | shortlist: 5879\n",
      "64. |ra [72 61 ] | 324514 | 9 ms | 19 ms | shortlist: 7917\n",
      "65. |ĠNa [c4 a0 4e 61 ] | 322442 | 9 ms | 10 ms | shortlist: 1168\n",
      "66. |ity [69 74 79 ] | 322398 | 6 ms | 9 ms | shortlist: 4392\n",
      "67. |ĠS [c4 a0 53 ] | 321981 | 8 ms | 15 ms | shortlist: 9883\n",
      "68. |Ġon [c4 a0 6f 6e ] | 321135 | 9 ms | 10 ms | shortlist: 407\n",
      "69. |ight [69 67 68 74 ] | 320166 | 5 ms | 6 ms | shortlist: 1180\n",
      "70. |ĠA [c4 a0 41 ] | 318611 | 6 ms | 11 ms | shortlist: 8515\n",
      "71. |ld [6c 64 ] | 311836 | 8 ms | 9 ms | shortlist: 1164\n",
      "72. |Ġit [c4 a0 69 74 ] | 311520 | 6 ms | 6 ms | shortlist: 206\n",
      "73. |Ġde [c4 a0 64 65 ] | 310397 | 5 ms | 8 ms | shortlist: 2520\n",
      "74. |ur [75 72 ] | 308485 | 7 ms | 14 ms | shortlist: 5121\n",
      "75. |ver [76 65 72 ] | 298250 | 9 ms | 13 ms | shortlist: 3451\n",
      "76. |Ġwe [c4 a0 77 65 ] | 293443 | 8 ms | 8 ms | shortlist: 615\n",
      "77. |ĠI [c4 a0 49 ] | 290833 | 5 ms | 9 ms | shortlist: 5050\n",
      "78. |Ġg [c4 a0 67 ] | 289866 | 8 ms | 11 ms | shortlist: 3425\n",
      "79. |Ġl [c4 a0 6c ] | 288456 | 8 ms | 11 ms | shortlist: 3087\n",
      "80. |our [6f 75 72 ] | 288054 | 7 ms | 9 ms | shortlist: 1856\n",
      "81. |Ġu [c4 a0 75 ] | 281139 | 7 ms | 12 ms | shortlist: 5928\n",
      "82. |eace [65 61 63 65 ] | 279796 | 9 ms | 9 ms | shortlist: 257\n",
      "83. |Ġh [c4 a0 68 ] | 278976 | 5 ms | 7 ms | shortlist: 3240\n",
      "84. |ĠT [c4 a0 54 ] | 275470 | 9 ms | 12 ms | shortlist: 5914\n",
      "85. |ies [69 65 73 ] | 273424 | 8 ms | 12 ms | shortlist: 5329\n",
      "86. |ul [75 6c ] | 270729 | 9 ms | 16 ms | shortlist: 5331\n",
      "87. |ir [69 72 ] | 270547 | 8 ms | 13 ms | shortlist: 4127\n",
      "88. |Ġal [c4 a0 61 6c ] | 259325 | 8 ms | 9 ms | shortlist: 983\n",
      "89. |as [61 73 ] | 257046 | 5 ms | 12 ms | shortlist: 6726\n",
      "90. |port [70 6f 72 74 ] | 256788 | 10 ms | 11 ms | shortlist: 693\n",
      "91. |ith [69 74 68 ] | 254325 | 5 ms | 6 ms | shortlist: 951\n",
      "92. |ot [6f 74 ] | 238955 | 6 ms | 9 ms | shortlist: 3737\n",
      "93. |res [72 65 73 ] | 234929 | 7 ms | 11 ms | shortlist: 3613\n",
      "94. |de [64 65 ] | 233884 | 8 ms | 12 ms | shortlist: 4948\n",
      "95. |Ġas [c4 a0 61 73 ] | 232510 | 9 ms | 9 ms | shortlist: 774\n",
      "96. |ĠC [c4 a0 43 ] | 224844 | 5 ms | 11 ms | shortlist: 7931\n",
      "97. |ate [61 74 65 ] | 217345 | 9 ms | 13 ms | shortlist: 4424\n",
      "98. |ow [6f 77 ] | 215884 | 7 ms | 10 ms | shortlist: 2459\n",
      "99. |ac [61 63 ] | 215372 | 6 ms | 12 ms | shortlist: 5342\n",
      "100. |Ġst [c4 a0 73 74 ] | 214953 | 8 ms | 10 ms | shortlist: 2378\n",
      "Total time taken: 1 seconds\n",
      "Trie constructed\n"
     ]
    }
   ],
   "source": [
    "from pcatt.pco_tokenizer import build as build_pco\n",
    "words = [t for t in open('cpp_inputs/words/un.txt').read().strip().split(\" \")] \n",
    "counts = [int(t.strip()) for t in open('cpp_inputs/counts/un.txt').read().strip().split('\\n')]\n",
    "un_counts = {a:b for a,b in zip(words, counts)}\n",
    "\n",
    "# we can use train_new_from_counts instead to get the same result as:\n",
    "'''\n",
    "test = build_pco(un_counts)\n",
    "test.initialize_graph(5, 1)\n",
    "test_tokens, test_scores = test.solve_to_step(100)\n",
    "'''\n",
    "\n",
    "from pcatt.hf.greedtok import GreedTok\n",
    "\n",
    "greedtok = GreedTok().train_new_from_counts(un_counts, 100, max_token_length=5, min_word_count=1)"
   ]
  },
  {
   "cell_type": "code",
   "execution_count": 23,
   "id": "6aa3e0b4",
   "metadata": {
    "scrolled": true
   },
   "outputs": [
    {
     "name": "stdout",
     "output_type": "stream",
     "text": [
      "[58, 47, 63, 132, 97, 65, 66, 146, 1, 1, 1, 5, 5, 5]Trie constructed\n",
      "unk_token <unk> 1\n",
      "pad_token <pad> 0\n",
      "eos_token <eos> 2\n",
      "\n",
      "Original: The United Nations Organization for peace.\n",
      "Tokens:   [58, 47, 63, 132, 97, 65, 66, 146, 1, 1, 1, 5, 5, 5]\n",
      "Readable: [b'The', b' United', b' Nations', b' ', b'Organization', b' for', b' peace', b'.', b' and', b' and', b' and']\n",
      "EncDec:   The United Nations Organization for peace.<unk><unk><unk> and and and\n"
     ]
    }
   ],
   "source": [
    "# to use in existing codebases simply import and load from AutoTokenizer\n",
    "import pcatt.hf\n",
    "from transformers import AutoTokenizer\n",
    "tokenize = AutoTokenizer.from_pretrained(\"pcatt/hf/examples/greedtok_test2\")\n",
    "\n",
    "# we can also pass callbacks to modify the final encoding\n",
    "original_str = \"The United Nations Organization for peace.\"\n",
    "callback = lambda x1: [*x1, 1, 1, 1, 5, 5, 5]\n",
    "idxs = tokenize.encode(original_str, callback=callback)\n",
    "print(idxs)\n",
    "print(\"Original:\", original_str)\n",
    "print(\"Tokens:  \", idxs)\n",
    "print(\"Readable:\", [\n",
    "    tokenize.final_ids_map[x]\n",
    "    for x in idxs\n",
    "    if x not in tokenize.special_token_ids\n",
    "])\n",
    "print(\"EncDec:  \", tokenize.decode(idxs))"
   ]
  },
  {
   "cell_type": "code",
   "execution_count": 24,
   "id": "6cf9bd07",
   "metadata": {},
   "outputs": [
    {
     "name": "stdout",
     "output_type": "stream",
     "text": [
      "[58, 47, 63, 132, 97, 65, 66, 146, 132, 132, 132, 132, 132, 58, 80, 76, 132, 38, 32, 146]\n",
      "Original: The United Nations Organization for peace. The world is developing.\n",
      "Tokens:   [58, 47, 63, 132, 97, 65, 66, 146, 132, 132, 132, 132, 132, 58, 80, 76, 132, 38, 32, 146]\n",
      "Readable: [b'The', b' United', b' Nations', b' ', b'Organization', b' for', b' peace', b'.', b' ', b' ', b' ', b' ', b' ', b'The', b' world', b' is', b' ', b'develop', b'ing', b'.']\n",
      "EncDec:   The United Nations Organization for peace.     The world is developing.\n"
     ]
    }
   ],
   "source": [
    "original_str = \"The United Nations Organization for peace.\"\n",
    "original_str2 = \"The world is developing.\"\n",
    "def callback(x1, x2):\n",
    "    return x1 + [tokenize.final_tokens_map[b\" \"]]*5 + x2, [0]*len(x1) + [tokenize.final_tokens_map[b\" \"]]*5 + [1]*len(x2)\n",
    "idxs = tokenize.encode(original_str, original_str2, callback=callback)\n",
    "print(idxs)\n",
    "print(\"Original:\", original_str + \" \" + original_str2)\n",
    "print(\"Tokens:  \", idxs)\n",
    "print(\"Readable:\", [\n",
    "    tokenize.final_ids_map[x]\n",
    "    for x in idxs\n",
    "    if x not in tokenize.special_token_ids\n",
    "])\n",
    "print(\"EncDec:  \", tokenize.decode(idxs))"
   ]
  },
  {
   "cell_type": "code",
   "execution_count": null,
   "id": "89670b4b",
   "metadata": {},
   "outputs": [],
   "source": []
  },
  {
   "cell_type": "code",
   "execution_count": null,
   "id": "38ad7fd9",
   "metadata": {},
   "outputs": [],
   "source": []
  }
 ],
 "metadata": {
  "kernelspec": {
   "display_name": "Python [conda env:tbb]",
   "language": "python",
   "name": "conda-env-tbb-py"
  },
  "language_info": {
   "codemirror_mode": {
    "name": "ipython",
    "version": 3
   },
   "file_extension": ".py",
   "mimetype": "text/x-python",
   "name": "python",
   "nbconvert_exporter": "python",
   "pygments_lexer": "ipython3",
   "version": "3.13.1"
  }
 },
 "nbformat": 4,
 "nbformat_minor": 5
}
