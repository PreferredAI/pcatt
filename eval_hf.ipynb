{
 "cells": [
  {
   "cell_type": "code",
   "execution_count": 1,
   "id": "56af47e7",
   "metadata": {},
   "outputs": [],
   "source": [
    "import os\n",
    "import regex\n",
    "from tqdm import tqdm\n",
    "from collections import defaultdict\n",
    "\n",
    "def gen_word_count(files):\n",
    "    pat_str=r\"\"\"'s|'t|'re|'ve|'m|'ll|'d| ?[\\p{L}]+| ?[\\p{N}]+| ?[^\\s\\p{L}\\p{N}]+|\\s+(?!\\S)|\\s+\"\"\"\n",
    "    count = defaultdict(int)\n",
    "    for f in files:\n",
    "        data = open(f, 'r').read()\n",
    "        for w in regex.findall(pat_str, data):\n",
    "            count[regex.sub(\" \", \"Ġ\", w)] += 1\n",
    "    return dict(count)\n",
    "        \n",
    "def get_substrings(counts):\n",
    "    T = set()\n",
    "    for w in counts:\n",
    "        for i in range(len(w[0])):\n",
    "            for j in range(i+1, len(w[0])):\n",
    "                T.add(w[0][i:j])\n",
    "    print('total', len(T))\n",
    "    alphabet = [t for t in T if len(t)==1]\n",
    "    print('alphabet', len(alphabet))\n",
    "    print('T', len(T)-len(alphabet))\n",
    "    print()\n",
    "    return T\n",
    "\n",
    "class TestTextIterator:\n",
    "    def __init__(self, files, pat_str, batch_size):\n",
    "        self.files = files\n",
    "        self.file_idx = 0\n",
    "        self.pat_str = pat_str\n",
    "        self.batch_size = batch_size\n",
    "    def __len__(self):\n",
    "        return len(self.files)//self.batch_size + 1\n",
    "    def __iter__(self):\n",
    "        return self\n",
    "    def __next__(self):\n",
    "        if self.file_idx >= len(self.files):\n",
    "            raise StopIteration\n",
    "        current = self.file_idx\n",
    "        self.file_idx += self.batch_size\n",
    "        return [[regex.sub(\" \", \"Ġ\", w) for w in regex.findall(self.pat_str, open(self.files[t], 'r').read())] \n",
    "               for t in range(current, min(self.file_idx,len(self.files)))]\n",
    "    \n",
    "un_files = [f\"../project5/data/un/TXT/{f}\" for f in os.listdir(\"../project5/data/un/TXT/\")]"
   ]
  },
  {
   "cell_type": "code",
   "execution_count": 2,
   "id": "7b143773",
   "metadata": {},
   "outputs": [
    {
     "name": "stderr",
     "output_type": "stream",
     "text": [
      "/home/jiapeng/conda/envs/tbb/lib/python3.13/site-packages/tqdm/auto.py:21: TqdmWarning: IProgress not found. Please update jupyter and ipywidgets. See https://ipywidgets.readthedocs.io/en/stable/user_install.html\n",
      "  from .autonotebook import tqdm as notebook_tqdm\n",
      "None of PyTorch, TensorFlow >= 2.0, or Flax have been found. Models won't be available and only tokenizers, configuration and file/data utilities can be used.\n"
     ]
    },
    {
     "name": "stdout",
     "output_type": "stream",
     "text": [
      "Trie constructed\n",
      "Word counts size: 32151\n",
      "Token set size: 0\n",
      "Empty token set size selected -> all possible substrings with...\n",
      "Max token size: 1000\n",
      "Min. word count: 1\n",
      "len:  100\n",
      "Final candidate token set size: 285402\n",
      "Initial setup phase: 456 ms\n",
      "0. |<pad> [3c 70 61 64 3e ] | 0\n",
      "1. |<unk> [3c 75 6e 6b 3e ] | 0\n",
      "2. |<eos> [3c 65 6f 73 3e ] | 0\n",
      "Starting main routine...\n",
      "4. |Ġ [c4 a0 ] | 308087 | 38 ms | 169 ms | shortlist: 274826\n",
      "5. |Ġthe [c4 a0 74 68 65 ] | 76164 | 32 ms | 47 ms | shortlist: 1227\n",
      "6. |tion [74 69 6f 6e ] | 45264 | 14 ms | 30 ms | shortlist: 37228\n",
      "7. |Ġand [c4 a0 61 6e 64 ] | 31770 | 15 ms | 16 ms | shortlist: 299\n",
      "8. |Ġof [c4 a0 6f 66 ] | 31192 | 10 ms | 11 ms | shortlist: 514\n",
      "9. |in [69 6e ] | 30601 | 11 ms | 48 ms | shortlist: 84159\n",
      "10. |re [72 65 ] | 25253 | 17 ms | 39 ms | shortlist: 49568\n",
      "11. |Ġt [c4 a0 74 ] | 21088 | 15 ms | 20 ms | shortlist: 11004\n",
      "12. |Ġa [c4 a0 61 ] | 20232 | 12 ms | 19 ms | shortlist: 21062\n",
      "13. |en [65 6e ] | 20201 | 12 ms | 33 ms | shortlist: 44498\n",
      "14. |er [65 72 ] | 20119 | 13 ms | 33 ms | shortlist: 46383\n",
      "15. |Ġco [c4 a0 63 6f ] | 17812 | 13 ms | 20 ms | shortlist: 17786\n",
      "16. |it [69 74 ] | 17085 | 12 ms | 23 ms | shortlist: 28343\n",
      "17. |al [61 6c ] | 14793 | 12 ms | 28 ms | shortlist: 38058\n",
      "18. |or [6f 72 ] | 14772 | 13 ms | 24 ms | shortlist: 25183\n",
      "19. |es [65 73 ] | 14651 | 12 ms | 30 ms | shortlist: 51465\n",
      "20. |an [61 6e ] | 13787 | 14 ms | 29 ms | shortlist: 35792\n",
      "21. |is [69 73 ] | 13696 | 13 ms | 28 ms | shortlist: 33866\n",
      "22. |on [6f 6e ] | 13465 | 13 ms | 25 ms | shortlist: 28350\n",
      "23. |at [61 74 ] | 13347 | 12 ms | 27 ms | shortlist: 33021\n",
      "24. |Ġs [c4 a0 73 ] | 13261 | 12 ms | 21 ms | shortlist: 24546\n",
      "25. |ed [65 64 ] | 12876 | 11 ms | 29 ms | shortlist: 49660\n",
      "26. |Ġw [c4 a0 77 ] | 12330 | 14 ms | 16 ms | shortlist: 4965\n",
      "27. |Ġp [c4 a0 70 ] | 12221 | 10 ms | 18 ms | shortlist: 22909\n",
      "28. |Ġin [c4 a0 69 6e ] | 11352 | 11 ms | 17 ms | shortlist: 17654\n",
      "29. |ation [61 74 69 6f 6e ] | 10583 | 11 ms | 22 ms | shortlist: 27362\n",
      "30. |Ġto [c4 a0 74 6f ] | 10345 | 11 ms | 12 ms | shortlist: 1062\n",
      "31. |ic [69 63 ] | 10107 | 8 ms | 19 ms | shortlist: 26796\n",
      "32. |ar [61 72 ] | 10061 | 12 ms | 25 ms | shortlist: 26877\n",
      "33. |ing [69 6e 67 ] | 10028 | 13 ms | 34 ms | shortlist: 54107\n",
      "34. |ou [6f 75 ] | 9881 | 14 ms | 21 ms | shortlist: 19196\n",
      "35. |ment [6d 65 6e 74 ] | 9486 | 11 ms | 16 ms | shortlist: 11981\n",
      "36. |Ġf [c4 a0 66 ] | 9453 | 11 ms | 14 ms | shortlist: 11008\n",
      "37. |Ġbe [c4 a0 62 65 ] | 9058 | 9 ms | 10 ms | shortlist: 1912\n",
      "38. |develop [64 65 76 65 6c 6f 70 ] | 8202 | 8 ms | 9 ms | shortlist: 448\n",
      "39. |le [6c 65 ] | 7620 | 7 ms | 15 ms | shortlist: 22460\n",
      "40. |Ġthat [c4 a0 74 68 61 74 ] | 7520 | 10 ms | 10 ms | shortlist: 177\n",
      "41. |Ġm [c4 a0 6d ] | 7389 | 7 ms | 12 ms | shortlist: 13523\n",
      "42. |Ġh [c4 a0 68 ] | 7165 | 10 ms | 13 ms | shortlist: 8493\n",
      "43. |st [73 74 ] | 7065 | 10 ms | 18 ms | shortlist: 17476\n",
      "44. |Ġre [c4 a0 72 65 ] | 6871 | 11 ms | 18 ms | shortlist: 18262\n",
      "45. |ro [72 6f ] | 6720 | 11 ms | 18 ms | shortlist: 13936\n",
      "46. |Ġd [c4 a0 64 ] | 6674 | 11 ms | 20 ms | shortlist: 21859\n",
      "47. |ternational [74 65 72 6e 61 74 69 6f 6e 61 6c ] | 6656 | 11 ms | 12 ms | shortlist: 471\n",
      "48. |ĠUnited [c4 a0 55 6e 69 74 65 64 ] | 6608 | 8 ms | 8 ms | shortlist: 97\n",
      "49. |ce [63 65 ] | 6172 | 8 ms | 14 ms | shortlist: 13439\n",
      "50. |ec [65 63 ] | 6001 | 10 ms | 15 ms | shortlist: 9689\n",
      "51. |th [74 68 ] | 5763 | 10 ms | 13 ms | shortlist: 9065\n",
      "52. |ve [76 65 ] | 5657 | 9 ms | 14 ms | shortlist: 11488\n",
      "53. |un [75 6e ] | 5607 | 10 ms | 18 ms | shortlist: 20590\n",
      "54. |il [69 6c ] | 5448 | 11 ms | 17 ms | shortlist: 15199\n",
      "55. |Ġn [c4 a0 6e ] | 5390 | 9 ms | 11 ms | shortlist: 6145\n",
      "56. |ly [6c 79 ] | 5212 | 9 ms | 19 ms | shortlist: 32678\n",
      "57. |as [61 73 ] | 5011 | 11 ms | 15 ms | shortlist: 9826\n",
      "58. |Ġc [c4 a0 63 ] | 4694 | 9 ms | 13 ms | shortlist: 10515\n",
      "59. |The [54 68 65 ] | 4624 | 9 ms | 9 ms | shortlist: 438\n",
      "60. |ĠNations [c4 a0 4e 61 74 69 6f 6e 73 ] | 4590 | 7 ms | 7 ms | shortlist: 179\n",
      "61. |Ġe [c4 a0 65 ] | 4534 | 7 ms | 12 ms | shortlist: 11180\n",
      "62. |Ġb [c4 a0 62 ] | 4446 | 9 ms | 13 ms | shortlist: 8758\n",
      "63. |om [6f 6d ] | 4222 | 9 ms | 14 ms | shortlist: 10547\n",
      "64. |Ġcon [c4 a0 63 6f 6e ] | 4174 | 10 ms | 14 ms | shortlist: 8956\n",
      "65. |Ġcountr [c4 a0 63 6f 75 6e 74 72 ] | 4173 | 9 ms | 10 ms | shortlist: 206\n",
      "66. |Ġwhich [c4 a0 77 68 69 63 68 ] | 4071 | 7 ms | 7 ms | shortlist: 83\n",
      "67. |Ġfor [c4 a0 66 6f 72 ] | 4037 | 7 ms | 7 ms | shortlist: 1521\n",
      "68. |Ġpeace [c4 a0 70 65 61 63 65 ] | 4017 | 7 ms | 8 ms | shortlist: 370\n",
      "69. |ol [6f 6c ] | 3975 | 7 ms | 12 ms | shortlist: 10649\n",
      "70. |Ġwith [c4 a0 77 69 74 68 ] | 3964 | 9 ms | 9 ms | shortlist: 351\n",
      "71. |ity [69 74 79 ] | 3826 | 7 ms | 11 ms | shortlist: 10484\n",
      "72. |ight [69 67 68 74 ] | 3810 | 9 ms | 10 ms | shortlist: 2498\n",
      "73. |ent [65 6e 74 ] | 3637 | 8 ms | 14 ms | shortlist: 11597\n",
      "74. |Ġworld [c4 a0 77 6f 72 6c 64 ] | 3618 | 10 ms | 10 ms | shortlist: 102\n",
      "75. |si [73 69 ] | 3612 | 7 ms | 12 ms | shortlist: 10620\n",
      "76. |ur [75 72 ] | 3594 | 9 ms | 14 ms | shortlist: 9840\n",
      "77. |Ġour [c4 a0 6f 75 72 ] | 3562 | 9 ms | 10 ms | shortlist: 49\n",
      "78. |ĠS [c4 a0 53 ] | 3558 | 7 ms | 9 ms | shortlist: 7527\n",
      "79. |Ġis [c4 a0 69 73 ] | 3534 | 8 ms | 9 ms | shortlist: 371\n",
      "80. |im [69 6d ] | 3501 | 7 ms | 12 ms | shortlist: 10879\n",
      "81. |op [6f 70 ] | 3499 | 10 ms | 12 ms | shortlist: 4665\n",
      "82. |se [73 65 ] | 3365 | 9 ms | 11 ms | shortlist: 6110\n",
      "83. |ul [75 6c ] | 3318 | 9 ms | 15 ms | shortlist: 11551\n",
      "84. |ra [72 61 ] | 3269 | 9 ms | 15 ms | shortlist: 12038\n",
      "85. |Ġth [c4 a0 74 68 ] | 3234 | 9 ms | 10 ms | shortlist: 1247\n",
      "86. |Organization [4f 72 67 61 6e 69 7a 61 74 69 6f 6e ] | 3042 | 8 ms | 8 ms | shortlist: 98\n",
      "87. |ver [76 65 72 ] | 2991 | 7 ms | 11 ms | shortlist: 7383\n",
      "88. |Ġon [c4 a0 6f 6e ] | 2976 | 8 ms | 9 ms | shortlist: 297\n",
      "89. |Ġshould [c4 a0 73 68 6f 75 6c 64 ] | 2972 | 7 ms | 7 ms | shortlist: 99\n",
      "90. |Ġhave [c4 a0 68 61 76 65 ] | 2960 | 7 ms | 7 ms | shortlist: 11\n",
      "91. |ies [69 65 73 ] | 2942 | 6 ms | 10 ms | shortlist: 11048\n",
      "92. |port [70 6f 72 74 ] | 2926 | 9 ms | 10 ms | shortlist: 1584\n",
      "93. |ir [69 72 ] | 2821 | 8 ms | 10 ms | shortlist: 6049\n",
      "94. |ĠA [c4 a0 41 ] | 2806 | 8 ms | 10 ms | shortlist: 6779\n",
      "95. |de [64 65 ] | 2740 | 8 ms | 12 ms | shortlist: 9264\n",
      "96. |Ġpro [c4 a0 70 72 6f ] | 2703 | 9 ms | 11 ms | shortlist: 5105\n",
      "97. |Ġl [c4 a0 6c ] | 2681 | 8 ms | 9 ms | shortlist: 4559\n",
      "98. |Ġg [c4 a0 67 ] | 2665 | 7 ms | 9 ms | shortlist: 4997\n",
      "99. |Ġits [c4 a0 69 74 73 ] | 2654 | 8 ms | 8 ms | shortlist: 60\n",
      "100. |Ġwe [c4 a0 77 65 ] | 2575 | 6 ms | 6 ms | shortlist: 708\n",
      "Total time taken: 1 seconds\n",
      "Trie constructed\n",
      "eos_token <eos> 2\n",
      "unk_token <unk> 1\n",
      "pad_token <pad> 0\n"
     ]
    }
   ],
   "source": [
    "tti = TestTextIterator(\n",
    "    un_files[:350],\n",
    "    r\"\"\"'s|'t|'re|'ve|'m|'ll|'d| ?[\\p{L}]+| ?[\\p{N}]+| ?[^\\s\\p{L}\\p{N}]+|\\s+(?!\\S)|\\s+\"\"\",\n",
    "    100\n",
    ")\n",
    "\n",
    "# text_iterator gives batches of lists of words\n",
    "from pcatt.hf.greedtok import GreedTok\n",
    "GT_Train = GreedTok([], special_tokens_map={}).train_new_from_iterator(\n",
    "    tti, \n",
    "    vocab_size = 100,\n",
    "    special_tokens_map={\n",
    "        \"pad_token\":\"<pad>\",\n",
    "        \"unk_token\":\"<unk>\", \n",
    "        \"eos_token\":\"<eos>\"\n",
    "    },\n",
    "    min_word_count=1,\n",
    "    max_token_size=1000\n",
    ")"
   ]
  },
  {
   "cell_type": "code",
   "execution_count": 3,
   "id": "6691bc3a",
   "metadata": {},
   "outputs": [
    {
     "name": "stdout",
     "output_type": "stream",
     "text": [
      "tokenizer config file saved in pcatt/hf/examples/greedtok_test2/tokenizer_config.json\n",
      "special_tokens_map file saved in pcatt/hf/examples/greedtok_test2/special_tokens_map.json\n",
      "added tokens file saved in pcatt/hf/examples/greedtok_test2/added_tokens.txt\n"
     ]
    },
    {
     "data": {
      "text/plain": [
       "('pcatt/hf/examples/greedtok_test2/tokenizer_config.json',\n",
       " 'pcatt/hf/examples/greedtok_test2/special_tokens_map.json',\n",
       " 'pcatt/hf/examples/greedtok_test2/added_tokens.txt')"
      ]
     },
     "execution_count": 3,
     "metadata": {},
     "output_type": "execute_result"
    }
   ],
   "source": [
    "GT_Train.save_pretrained('pcatt/hf/examples/greedtok_test2')"
   ]
  },
  {
   "cell_type": "code",
   "execution_count": 4,
   "id": "b7237fd3",
   "metadata": {},
   "outputs": [
    {
     "name": "stdout",
     "output_type": "stream",
     "text": [
      "33646\n"
     ]
    }
   ],
   "source": [
    "tti = TestTextIterator(\n",
    "    un_files[:350],\n",
    "    r\"\"\"'s|'t|'re|'ve|'m|'ll|'d| ?[\\p{L}]+| ?[\\p{N}]+| ?[^\\s\\p{L}\\p{N}]+|\\s+(?!\\S)|\\s+\"\"\",\n",
    "    100\n",
    ")\n",
    "test_split = [x for x in next(tti)]\n",
    "test = [\"\".join(x) for x in test_split]\n",
    "print(max([len(x) for x in test]))"
   ]
  },
  {
   "cell_type": "code",
   "execution_count": 5,
   "id": "ba963b06",
   "metadata": {},
   "outputs": [
    {
     "name": "stdout",
     "output_type": "stream",
     "text": [
      "Trie constructed\n",
      "unk_token <unk> 1\n",
      "pad_token <pad> 0\n",
      "eos_token <eos> 2\n"
     ]
    }
   ],
   "source": [
    "from pcatt.hf.greedtok import GreedTok\n",
    "GT_Train = GreedTok.from_pretrained(\"pcatt/hf/examples/greedtok_test2\")"
   ]
  },
  {
   "cell_type": "code",
   "execution_count": 6,
   "id": "9bce1d59",
   "metadata": {},
   "outputs": [
    {
     "name": "stdout",
     "output_type": "stream",
     "text": [
      "[176, 201, 216, 40, 201, 63, 203, 214, 22, 82, 22, 201, 3, 221, 33, 146, 77, 92, 144, 6, 4, 3, 182, 201, 212, 217, 198, 208, 30, 3, 110, 211, 202, 3, 166, 82, 203, 31, 205, 197, 3, 217, 212, 21, 3, 221, 33, 214, 60, 38, 199, 5, 11, 215, 3, 180, 9, 74, 200, 72, 7, 4, 3, 171, 12, 13, 16, 93, 215, 81, 209, 198, 55, 11, 216, 98, 3, 110, 202, 17, 216, 221, 145, 81, 218, 12, 50, 23, 18, 74, 21, 146, 3, 189, 33, 214, 60, 220, 212, 13]\n",
      "Let me congratulate you. Sir, and the Republic \n",
      "of Bulgaria upon your election as President of the General Assembly at its \n",
      "forty-seventh session. Your experience as a respected political leader and \n",
      "\n"
     ]
    }
   ],
   "source": [
    "test_encode = GT_Train(test_split[:50], test_split[50:], is_split_into_words=True)\n",
    "print(test_encode['input_ids'][1][:100])\n",
    "test_decode = GT_Train.batch_decode(test_encode['input_ids'])\n",
    "print(regex.sub(\"Ġ\",\" \", test_decode[1])[:200])"
   ]
  },
  {
   "cell_type": "code",
   "execution_count": 7,
   "id": "3040e5c7",
   "metadata": {},
   "outputs": [
    {
     "name": "stdout",
     "output_type": "stream",
     "text": [
      "[176, 201, 216, 40, 201, 63, 203, 214, 22, 82, 22, 201, 3, 221, 33, 146, 77, 92, 144, 6, 4, 3, 182, 201, 212, 217, 198, 208, 30, 3, 110, 211, 202, 3, 166, 82, 203, 31, 205, 197, 3, 217, 212, 21, 3, 221, 33, 214, 60, 38, 199, 5, 11, 215, 3, 180, 9, 74, 200, 72, 7, 4, 3, 171, 12, 13, 16, 93, 215, 81, 209, 198, 55, 11, 216, 98, 3, 110, 202, 17, 216, 221, 145, 81, 218, 12, 50, 23, 18, 74, 21, 146, 3, 189, 33, 214, 60, 220, 212, 13]\n",
      "Let me congratulate you. Sir, and the Republic \n",
      "of Bulgaria upon your election as President of the General Assembly at its \n",
      "forty-seventh session. Your experience as a respected political leader and \n",
      "\n"
     ]
    }
   ],
   "source": [
    "test_encode = GT_Train(test[:50], test[50:], is_split_into_words=False)\n",
    "print(test_encode['input_ids'][1][:100])\n",
    "test_decode = GT_Train.batch_decode(test_encode['input_ids'])\n",
    "print(regex.sub(\"Ġ\",\" \", test_decode[1])[:200])"
   ]
  },
  {
   "cell_type": "code",
   "execution_count": 8,
   "id": "ced8d047",
   "metadata": {
    "scrolled": true
   },
   "outputs": [
    {
     "name": "stdout",
     "output_type": "stream",
     "text": [
      "[173, 216, 97, 205, 218, 18, 40, 201, 26, 38, 56, 217, 9, 11, 216, 4, 3, 33, 216, 81, 216, 29, 3, 206, 211, 8, 4, 23, 212, 201, 197, 207, 13, 215, 25, 204, 211, 26, 9, 199, 24, 24, 3, 110, 209, 201, 27, 63, 203, 214, 22, 82, 22, 32, 3, 221, 33, 146, 77, 92, 144, 87, 3, 221, 33, 214, 60, 38, 199, 5, 29, 4, 26, 9, 74, 200, 12, 199, 221, 7, 4, 3, 110, 171, 12, 13, 16, 93, 215, 81, 209, 198, 55, 11, 216, 98, 66, 216, 221, 145]\n",
      "It gives me pleasure at the outset to join the speakers who preceded \n",
      "me in congratulating you. Sir, on your election to the presidency of the \n",
      "General Assembly at its forty-seventh session. My delega\n"
     ]
    }
   ],
   "source": [
    "test_encode = GT_Train(test, is_split_into_words=False)\n",
    "print(test_encode['input_ids'][0][:100])\n",
    "test_decode = GT_Train.batch_decode(test_encode['input_ids'])\n",
    "print(regex.sub(\"Ġ\",\" \", test_decode[0])[:200])"
   ]
  },
  {
   "cell_type": "code",
   "execution_count": 9,
   "id": "60cfc38c",
   "metadata": {},
   "outputs": [
    {
     "name": "stdout",
     "output_type": "stream",
     "text": [
      "[173, 216, 97, 205, 218, 18, 40, 201, 26, 38, 56, 217, 9, 11, 216, 4, 3, 33, 216, 81, 216, 29, 3, 206, 211, 8, 4, 23, 212, 201, 197, 207, 13, 215, 25, 204, 211, 26, 9, 199, 24, 24, 3, 110, 209, 201, 27, 63, 203, 214, 22, 82, 22, 32, 3, 221, 33, 146, 77, 92, 144, 87, 3, 221, 33, 214, 60, 38, 199, 5, 29, 4, 26, 9, 74, 200, 12, 199, 221, 7, 4, 3, 110, 171, 12, 13, 16, 93, 215, 81, 209, 198, 55, 11, 216, 98, 66, 216, 221, 145]\n",
      "It gives me pleasure at the outset to join the speakers who preceded \n",
      "me in congratulating you. Sir, on your election to the presidency of the \n",
      "General Assembly at its forty-seventh session. My delega\n"
     ]
    }
   ],
   "source": [
    "test_encode = GT_Train(test_split, is_split_into_words=True)\n",
    "print(test_encode['input_ids'][0][:100])\n",
    "test_decode = GT_Train.batch_decode(test_encode['input_ids'])\n",
    "print(regex.sub(\"Ġ\",\" \", test_decode[0])[:200])"
   ]
  },
  {
   "cell_type": "code",
   "execution_count": 10,
   "id": "3ac68d82",
   "metadata": {},
   "outputs": [
    {
     "name": "stdout",
     "output_type": "stream",
     "text": [
      "Trie constructed\n",
      "eos_token <eos> 8\n",
      "pad_token <pad> 7\n",
      "tokenizer config file saved in pcatt/hf/examples/greedtok_test1/tokenizer_config.json\n",
      "special_tokens_map file saved in pcatt/hf/examples/greedtok_test1/special_tokens_map.json\n",
      "added tokens file saved in pcatt/hf/examples/greedtok_test1/added_tokens.txt\n"
     ]
    },
    {
     "data": {
      "text/plain": [
       "('pcatt/hf/examples/greedtok_test1/tokenizer_config.json',\n",
       " 'pcatt/hf/examples/greedtok_test1/special_tokens_map.json',\n",
       " 'pcatt/hf/examples/greedtok_test1/added_tokens.txt')"
      ]
     },
     "execution_count": 10,
     "metadata": {},
     "output_type": "execute_result"
    }
   ],
   "source": [
    "from pcatt.hf.greedtok import GreedTok\n",
    "GT = GreedTok(ranked_tokens = ['aa', 'bb', 'abc', 'bc', '12', '123', '34', \"<pad>\", \"<eos>\"],\n",
    "         special_tokens_map = {\"pad_token\":\"<pad>\", \"eos_token\":\"<eos>\"})\n",
    "GT.save_pretrained(\"pcatt/hf/examples/greedtok_test1\")"
   ]
  },
  {
   "cell_type": "code",
   "execution_count": 11,
   "id": "bb22886b",
   "metadata": {
    "scrolled": true
   },
   "outputs": [
    {
     "name": "stdout",
     "output_type": "stream",
     "text": [
      "Trie constructed\n",
      "pad_token <pad> 7\n",
      "eos_token <eos> 8\n"
     ]
    }
   ],
   "source": [
    "from pcatt.hf.greedtok import GreedTok\n",
    "GT2 = GreedTok.from_pretrained(\"pcatt/hf/examples/greedtok_test1\")"
   ]
  },
  {
   "cell_type": "code",
   "execution_count": 12,
   "id": "3cae3a09",
   "metadata": {
    "scrolled": false
   },
   "outputs": [
    {
     "name": "stdout",
     "output_type": "stream",
     "text": [
      "['aabb', 'bbabc', 'bc12<pad>']\n",
      "['bc12', '\\\\xbfbb\\\\xd5']\n"
     ]
    }
   ],
   "source": [
    "#basic decoding\n",
    "print(GT2.batch_decode([[0,1], [1,2], [3,4,7]]))\n",
    "print(GT2.batch_decode([[3,4,7,8], [200,1,222]], skip_special_tokens=True))"
   ]
  },
  {
   "cell_type": "code",
   "execution_count": 13,
   "id": "e1fc7acc",
   "metadata": {
    "scrolled": true
   },
   "outputs": [
    {
     "data": {
      "text/plain": [
       "{'input_ids': [[0, 3], [0, 5, 61], [106, 107, 127]]}"
      ]
     },
     "execution_count": 13,
     "metadata": {},
     "output_type": "execute_result"
    }
   ],
   "source": [
    "# testing __call__\n",
    "GT2([\"aabc\", \"aa1234\", \"abv\"], is_split_into_words=False)"
   ]
  },
  {
   "cell_type": "code",
   "execution_count": 14,
   "id": "dbe54ea5",
   "metadata": {
    "scrolled": true
   },
   "outputs": [
    {
     "data": {
      "text/plain": [
       "{'input_ids': [[0, 3], [0, 5, 61], [106, 107, 127]]}"
      ]
     },
     "execution_count": 14,
     "metadata": {},
     "output_type": "execute_result"
    }
   ],
   "source": [
    "# testing __call__ presplit\n",
    "GT2([[\"aa\",\"bc\"], [\"aa\", \"123\", \"4\"], [\"ab\",\"v\"]], is_split_into_words=True)"
   ]
  },
  {
   "cell_type": "code",
   "execution_count": 15,
   "id": "c5119f01",
   "metadata": {
    "scrolled": true
   },
   "outputs": [
    {
     "name": "stdout",
     "output_type": "stream",
     "text": [
      "special_tokens_mask\n",
      "\t 2 :  [0, 0]\n",
      "\t 5 :  [1, 0, 0, 0, 1]\n",
      "\t 4 :  [0, 0, 0, 1]\n",
      "input_ids\n",
      "\t 2 :  [0, 3]\n",
      "\t 5 :  [7, 0, 5, 61, 8]\n",
      "\t 4 :  [106, 107, 127, 7]\n"
     ]
    }
   ],
   "source": [
    "# testing __call__ no padding and no truncation\n",
    "outputs = GT2([\"aabc\", \"<pad>aa1234<eos>\", \"abv<pad>\"], \n",
    "    is_split_into_words=False, \n",
    "    padding=False,\n",
    "    return_attention_mask=True,\n",
    "    return_special_tokens_mask=True,\n",
    "    max_length = 10)\n",
    "for k,v in outputs.items():\n",
    "    print(k)\n",
    "    for o in v:\n",
    "        print('\\t', len(o), ': ', o)"
   ]
  },
  {
   "cell_type": "code",
   "execution_count": 16,
   "id": "c5c83dd4",
   "metadata": {},
   "outputs": [
    {
     "name": "stdout",
     "output_type": "stream",
     "text": [
      "special_tokens_mask\n",
      "\t 10 :  [0, 0, 1, 1, 1, 1, 1, 1, 1, 1]\n",
      "\t 10 :  [0, 0, 0, 1, 1, 1, 1, 1, 1, 1]\n",
      "\t 10 :  [0, 0, 0, 1, 1, 1, 1, 1, 1, 1]\n",
      "\t 10 :  [0, 0, 0, 1, 0, 0, 0, 1, 0, 0]\n",
      "overflowing_tokens\n",
      "\t 0 :  []\n",
      "\t 0 :  []\n",
      "\t 0 :  []\n",
      "\t 5 :  [127, 7, 0, 5, 61]\n",
      "attention_mask\n",
      "\t 10 :  [1, 1, 0, 0, 0, 0, 0, 0, 0, 0]\n",
      "\t 10 :  [1, 1, 1, 0, 0, 0, 0, 0, 0, 0]\n",
      "\t 10 :  [1, 1, 1, 1, 0, 0, 0, 0, 0, 0]\n",
      "\t 10 :  [1, 1, 1, 1, 1, 1, 1, 1, 1, 1]\n",
      "input_ids\n",
      "\t 10 :  [0, 3, 7, 7, 7, 7, 7, 7, 7, 7]\n",
      "\t 10 :  [0, 5, 61, 7, 7, 7, 7, 7, 7, 7]\n",
      "\t 10 :  [106, 107, 127, 7, 7, 7, 7, 7, 7, 7]\n",
      "\t 10 :  [106, 107, 127, 7, 106, 107, 127, 7, 106, 107]\n"
     ]
    }
   ],
   "source": [
    "# testing __call__ with padding and truncation\n",
    "outputs = GT2([\"aabc\", \n",
    "               \"aa1234\",\n",
    "               \"abv<pad>\",\n",
    "               \"abv<pad>abv<pad>abv<pad>aa1234\"], \n",
    "    is_split_into_words=False, \n",
    "    padding=\"max_length\",\n",
    "    truncation = \"longest_first\",\n",
    "    return_overflowing_tokens=True,\n",
    "    return_attention_mask=True,\n",
    "    return_special_tokens_mask=True,\n",
    "    max_length = 10)\n",
    "for k,v in outputs.items():\n",
    "    print(k)\n",
    "    for o in v:\n",
    "        print('\\t', len(o), ': ', o)"
   ]
  },
  {
   "cell_type": "code",
   "execution_count": 17,
   "id": "feb1659f",
   "metadata": {},
   "outputs": [
    {
     "name": "stdout",
     "output_type": "stream",
     "text": [
      "input_ids\n",
      "\t 6 :  [0, 3, 106, 107, 127, 7]\n",
      "\t 18 :  [0, 5, 61, 106, 107, 127, 7, 106, 107, 127, 7, 106, 107, 127, 7, 0, 5, 61]\n"
     ]
    }
   ],
   "source": [
    "# testing pairs\n",
    "outputs = GT2([\"aabc\", \"aa1234\"],\n",
    "               [\"abv<pad>\", \"abv<pad>abv<pad>abv<pad>aa1234\"])\n",
    "for k,v in outputs.items():\n",
    "    print(k)\n",
    "    for o in v:\n",
    "        print('\\t', len(o), ': ', o)"
   ]
  },
  {
   "cell_type": "code",
   "execution_count": 18,
   "id": "c4af80ad",
   "metadata": {},
   "outputs": [
    {
     "name": "stdout",
     "output_type": "stream",
     "text": [
      "input_ids\n",
      "\t 6 :  [0, 3, 106, 107, 127, 7]\n",
      "\t 18 :  [0, 5, 61, 106, 107, 127, 7, 106, 107, 127, 7, 106, 107, 127, 7, 0, 5, 61]\n"
     ]
    }
   ],
   "source": [
    "# testing pairs with presplit words\n",
    "outputs = GT2([[\"aa\",\"bc\"], [\"aa\",\"1234\"]],\n",
    "               [[\"abv\", \"<pad>\"], [\"abv<pad>abv<pad>\",\"abv<pad>\",\"aa1234\"]],\n",
    "             is_split_into_words=True)\n",
    "for k,v in outputs.items():\n",
    "    print(k)\n",
    "    for o in v:\n",
    "        print('\\t', len(o), ': ', o)"
   ]
  },
  {
   "cell_type": "code",
   "execution_count": 19,
   "id": "a36aebe6",
   "metadata": {},
   "outputs": [
    {
     "name": "stdout",
     "output_type": "stream",
     "text": [
      "special_tokens_mask\n",
      "\t 10 :  [0, 0, 0, 0, 0, 1, 1, 1, 1, 1]\n",
      "\t 10 :  [0, 0, 0, 0, 0, 0, 1, 0, 0, 0]\n",
      "token_type_ids\n",
      "\t 10 :  [0, 0, 1, 1, 1, 1, 7, 7, 7, 7]\n",
      "\t 10 :  [0, 0, 0, 1, 1, 1, 1, 1, 1, 1]\n",
      "attention_mask\n",
      "\t 10 :  [1, 1, 1, 1, 1, 1, 0, 0, 0, 0]\n",
      "\t 10 :  [1, 1, 1, 1, 1, 1, 1, 1, 1, 1]\n",
      "input_ids\n",
      "\t 10 :  [0, 3, 106, 107, 127, 7, 7, 7, 7, 7]\n",
      "\t 10 :  [0, 5, 61, 106, 107, 127, 7, 106, 107, 127]\n"
     ]
    }
   ],
   "source": [
    "outputs = GT2([[\"aa\",\"bc\"], [\"aa\",\"1234\"]],\n",
    "               [[\"abv\", \"<pad>\"], [\"abv<pad>abv<pad>\",\"abv<pad>\",\"aa1234\"]],\n",
    "             is_split_into_words=True, \n",
    "    padding=\"max_length\",\n",
    "    truncation = \"only_second\",\n",
    "    return_token_type_ids=True,\n",
    "    return_overflowing_tokens=True,\n",
    "    return_attention_mask=True,\n",
    "    return_special_tokens_mask=True,\n",
    "    max_length = 10)\n",
    "for k,v in outputs.items():\n",
    "    print(k)\n",
    "    for o in v:\n",
    "        print('\\t', len(o), ': ', o)"
   ]
  },
  {
   "cell_type": "code",
   "execution_count": 22,
   "id": "ef00a6d0",
   "metadata": {},
   "outputs": [],
   "source": [
    "from pcatt.pco_tokenizer import build as build_pco"
   ]
  },
  {
   "cell_type": "code",
   "execution_count": 23,
   "id": "916a5ba3",
   "metadata": {},
   "outputs": [],
   "source": [
    "words = [t for t in open('cpp_inputs/words/un.txt').read().strip().split(\" \")] \n",
    "counts = [int(t.strip()) for t in open('cpp_inputs/counts/un.txt').read().strip().split('\\n')]\n",
    "un_counts = {a:b for a,b in zip(words, counts)}"
   ]
  },
  {
   "cell_type": "code",
   "execution_count": 24,
   "id": "f97ea7fc",
   "metadata": {
    "scrolled": true
   },
   "outputs": [
    {
     "name": "stdout",
     "output_type": "stream",
     "text": [
      "Trie constructed\n",
      "Word counts size: 105505\n",
      "Token set size: 0\n",
      "Empty token set size selected -> all possible substrings with...\n",
      "Max token size: 5\n",
      "Min. word count: 1\n",
      "Final candidate token set size: 81136\n",
      "Initial setup phase: 582 ms\n",
      "Starting main routine...\n",
      "1. |Ġ [c4 a0 ] | 30035114 | 42 ms | 243 ms | shortlist: 75764\n",
      "2. |Ġth [c4 a0 74 68 ] | 7109102 | 24 ms | 28 ms | shortlist: 1864\n",
      "3. |tion [74 69 6f 6e ] | 4043268 | 16 ms | 31 ms | shortlist: 7700\n",
      "4. |Ġof [c4 a0 6f 66 ] | 3300812 | 13 ms | 13 ms | shortlist: 371\n",
      "5. |Ġa [c4 a0 61 ] | 3259093 | 9 ms | 17 ms | shortlist: 7092\n",
      "6. |in [69 6e ] | 2782359 | 15 ms | 65 ms | shortlist: 21307\n",
      "7. |re [72 65 ] | 2384688 | 14 ms | 41 ms | shortlist: 13589\n",
      "8. |Ġto [c4 a0 74 6f ] | 2228162 | 13 ms | 14 ms | shortlist: 1091\n",
      "9. |er [65 72 ] | 1910725 | 9 ms | 39 ms | shortlist: 16660\n",
      "10. |en [65 6e ] | 1831877 | 13 ms | 38 ms | shortlist: 13572\n",
      "11. |Ġco [c4 a0 63 6f ] | 1782132 | 13 ms | 19 ms | shortlist: 4574\n",
      "12. |it [69 74 ] | 1622191 | 11 ms | 26 ms | shortlistlen:  100\n",
      ": 9596\n",
      "13. |nd [6e 64 ] | 1484027 | 14 ms | 23 ms | shortlist: 7050\n",
      "14. |Ġw [c4 a0 77 ] | 1404713 | 11 ms | 13 ms | shortlist: 3251\n",
      "15. |es [65 73 ] | 1403373 | 10 ms | 35 ms | shortlist: 18006\n",
      "16. |Ġs [c4 a0 73 ] | 1363207 | 13 ms | 24 ms | shortlist: 9055\n",
      "17. |or [6f 72 ] | 1319039 | 10 ms | 25 ms | shortlist: 9982\n",
      "18. |at [61 74 ] | 1291572 | 13 ms | 37 ms | shortlist: 11122\n",
      "19. |is [69 73 ] | 1281159 | 12 ms | 32 ms | shortlist: 11905\n",
      "20. |al [61 6c ] | 1279005 | 13 ms | 35 ms | shortlist: 12506\n",
      "21. |Ġp [c4 a0 70 ] | 1251643 | 11 ms | 20 ms | shortlist: 7315\n",
      "22. |on [6f 6e ] | 1189311 | 9 ms | 28 ms | shortlist: 11432\n",
      "23. |Ġin [c4 a0 69 6e ] | 1158876 | 11 ms | 16 ms | shortlist: 4387\n",
      "24. |ed [65 64 ] | 1137380 | 10 ms | 33 ms | shortlist: 15151\n",
      "25. |an [61 6e ] | 1029701 | 12 ms | 32 ms | shortlist: 15569\n",
      "26. |Ġf [c4 a0 66 ] | 980142 | 11 ms | 16 ms | shortlist: 4835\n",
      "27. |Ġbe [c4 a0 62 65 ] | 957046 | 10 ms | 11 ms | shortlist: 1181\n",
      "28. |ic [69 63 ] | 949111 | 6 ms | 21 ms | shortlist: 9835\n",
      "29. |ou [6f 75 ] | 925779 | 12 ms | 22 ms | shortlist: 8741\n",
      "30. |ar [61 72 ] | 877629 | 9 ms | 26 ms | shortlist: 12598\n",
      "31. |ment [6d 65 6e 74 ] | 871122 | 10 ms | 15 ms | shortlist: 3752\n",
      "32. |ing [69 6e 67 ] | 814643 | 9 ms | 38 ms | shortlist: 15732\n",
      "33. |Ġd [c4 a0 64 ] | 776407 | 11 ms | 20 ms | shortlist: 6508\n",
      "34. |Ġm [c4 a0 6d ] | 768147 | 9 ms | 15 ms | shortlist: 5889\n",
      "35. |le [6c 65 ] | 761238 | 8 ms | 19 ms | shortlist: 9339\n",
      "36. |Ġha [c4 a0 68 61 ] | 743422 | 10 ms | 10 ms | shortlist: 976\n",
      "37. |Ġre [c4 a0 72 65 ] | 691607 | 7 ms | 13 ms | shortlist: 4736\n",
      "38. |ve [76 65 ] | 674520 | 8 ms | 14 ms | shortlist: 5102\n",
      "39. |st [73 74 ] | 639635 | 9 ms | 20 ms | shortlist: 6894\n",
      "40. |ro [72 6f ] | 583331 | 10 ms | 18 ms | shortlist: 6713\n",
      "41. |ce [63 65 ] | 568796 | 9 ms | 14 ms | shortlist: 4967\n",
      "42. |Ġn [c4 a0 6e ] | 555826 | 9 ms | 11 ms | shortlist: 3426\n",
      "43. |Ġe [c4 a0 65 ] | 533333 | 8 ms | 13 ms | shortlist: 4089\n",
      "44. |il [69 6c ] | 507782 | 8 ms | 18 ms | shortlist: 7720\n",
      "45. |untr [75 6e 74 72 ] | 485733 | 10 ms | 11 ms | shortlist: 317\n",
      "46. |Ġc [c4 a0 63 ] | 483397 | 5 ms | 10 ms | shortlist: 5282\n",
      "47. |op [6f 70 ] | 478088 | 9 ms | 13 ms | shortlist: 3417\n",
      "48. |Ġb [c4 a0 62 ] | 468378 | 8 ms | 13 ms | shortlist: 5066\n",
      "49. |ly [6c 79 ] | 466512 | 9 ms | 21 ms | shortlist: 10631\n",
      "50. |he [68 65 ] | 460877 | 10 ms | 15 ms | shortlist: 5354\n",
      "51. |ec [65 63 ] | 452454 | 9 ms | 15 ms | shortlist: 3937\n",
      "52. |ter [74 65 72 ] | 414456 | 8 ms | 15 ms | shortlist: 4386\n",
      "53. |Ġis [c4 a0 69 73 ] | 387692 | 10 ms | 10 ms | shortlist: 246\n",
      "54. |ĠUn [c4 a0 55 6e ] | 385922 | 5 ms | 6 ms | shortlist: 1508\n",
      "55. |th [74 68 ] | 377521 | 6 ms | 10 ms | shortlist: 4361\n",
      "56. |hich [68 69 63 68 ] | 374248 | 8 ms | 8 ms | shortlist: 172\n",
      "57. |si [73 69 ] | 361837 | 4 ms | 10 ms | shortlist: 4372\n",
      "58. |im [69 6d ] | 357124 | 9 ms | 14 ms | shortlist: 5072\n",
      "59. |se [73 65 ] | 346315 | 9 ms | 13 ms | shortlist: 4451\n",
      "60. |ent [65 6e 74 ] | 343740 | 8 ms | 13 ms | shortlist: 4028\n",
      "61. |om [6f 6d ] | 341222 | 8 ms | 14 ms | shortlist: 5196\n",
      "62. |Ġt [c4 a0 74 ] | 340830 | 7 ms | 10 ms | shortlist: 4239\n",
      "63. |ol [6f 6c ] | 340056 | 7 ms | 14 ms | shortlist: 5879\n",
      "64. |ra [72 61 ] | 324514 | 9 ms | 19 ms | shortlist: 7917\n",
      "65. |ĠNa [c4 a0 4e 61 ] | 322442 | 9 ms | 9 ms | shortlist: 1168\n",
      "66. |ity [69 74 79 ] | 322398 | 5 ms | 9 ms | shortlist: 4392\n",
      "67. |ĠS [c4 a0 53 ] | 321981 | 7 ms | 14 ms | shortlist: 9883\n",
      "68. |Ġon [c4 a0 6f 6e ] | 321135 | 10 ms | 10 ms | shortlist: 407\n",
      "69. |ight [69 67 68 74 ] | 320166 | 5 ms | 6 ms | shortlist: 1180\n",
      "70. |ĠA [c4 a0 41 ] | 318611 | 6 ms | 12 ms | shortlist: 8515\n",
      "71. |ld [6c 64 ] | 311836 | 8 ms | 9 ms | shortlist: 1164\n",
      "72. |Ġit [c4 a0 69 74 ] | 311520 | 6 ms | 6 ms | shortlist: 206\n",
      "73. |Ġde [c4 a0 64 65 ] | 310397 | 5 ms | 8 ms | shortlist: 2520\n",
      "74. |ur [75 72 ] | 308485 | 8 ms | 13 ms | shortlist: 5121\n",
      "75. |ver [76 65 72 ] | 298250 | 8 ms | 12 ms | shortlist: 3451\n",
      "76. |Ġwe [c4 a0 77 65 ] | 293443 | 7 ms | 8 ms | shortlist: 615\n",
      "77. |ĠI [c4 a0 49 ] | 290833 | 5 ms | 8 ms | shortlist: 5050\n",
      "78. |Ġg [c4 a0 67 ] | 289866 | 8 ms | 10 ms | shortlist: 3425\n",
      "79. |Ġl [c4 a0 6c ] | 288456 | 8 ms | 10 ms | shortlist: 3087\n",
      "80. |our [6f 75 72 ] | 288054 | 6 ms | 8 ms | shortlist: 1856\n",
      "81. |Ġu [c4 a0 75 ] | 281139 | 6 ms | 11 ms | shortlist: 5928\n",
      "82. |eace [65 61 63 65 ] | 279796 | 8 ms | 9 ms | shortlist: 257\n",
      "83. |Ġh [c4 a0 68 ] | 278976 | 5 ms | 7 ms | shortlist: 3240\n",
      "84. |ĠT [c4 a0 54 ] | 275470 | 9 ms | 13 ms | shortlist: 5914\n",
      "85. |ies [69 65 73 ] | 273424 | 7 ms | 11 ms | shortlist: 5329\n",
      "86. |ul [75 6c ] | 270729 | 9 ms | 16 ms | shortlist: 5331\n",
      "87. |ir [69 72 ] | 270547 | 8 ms | 12 ms | shortlist: 4127\n",
      "88. |Ġal [c4 a0 61 6c ] | 259325 | 8 ms | 9 ms | shortlist: 983\n",
      "89. |as [61 73 ] | 257046 | 5 ms | 11 ms | shortlist: 6726\n",
      "90. |port [70 6f 72 74 ] | 256788 | 9 ms | 9 ms | shortlist: 693\n",
      "91. |ith [69 74 68 ] | 254325 | 5 ms | 6 ms | shortlist: 951\n",
      "92. |ot [6f 74 ] | 238955 | 6 ms | 9 ms | shortlist: 3737\n",
      "93. |res [72 65 73 ] | 234929 | 7 ms | 10 ms | shortlist: 3613\n",
      "94. |de [64 65 ] | 233884 | 7 ms | 11 ms | shortlist: 4948\n",
      "95. |Ġas [c4 a0 61 73 ] | 232510 | 9 ms | 10 ms | shortlist: 774\n",
      "96. |ĠC [c4 a0 43 ] | 224844 | 6 ms | 12 ms | shortlist: 7931\n",
      "97. |ate [61 74 65 ] | 217345 | 9 ms | 13 ms | shortlist: 4424\n",
      "98. |ow [6f 77 ] | 215884 | 7 ms | 10 ms | shortlist: 2459\n",
      "99. |ac [61 63 ] | 215372 | 6 ms | 12 ms | shortlist: 5342\n",
      "100. |Ġst [c4 a0 73 74 ] | 214953 | 7 ms | 9 ms | shortlist: 2378\n",
      "Total time taken: 1 seconds\n",
      "Trie constructed\n"
     ]
    }
   ],
   "source": [
    "# we can use train_new_from_counts instead to get the same result as:\n",
    "'''\n",
    "test = build_pco(un_counts)\n",
    "test.initialize_graph(5, 1)\n",
    "test_tokens, test_scores = test.solve_to_step(100)\n",
    "'''\n",
    "\n",
    "from pcatt.hf.greedtok import GreedTok\n",
    "\n",
    "greedtok = GreedTok().train_new_from_counts(un_counts, 100, max_token_length=5, min_word_count=1)"
   ]
  },
  {
   "cell_type": "code",
   "execution_count": 25,
   "id": "7457360e",
   "metadata": {},
   "outputs": [
    {
     "name": "stdout",
     "output_type": "stream",
     "text": [
      "Trie constructed\n",
      "unk_token <unk> 1\n",
      "pad_token <pad> 0\n",
      "eos_token <eos> 2\n"
     ]
    }
   ],
   "source": [
    "#simply\n",
    "import pcatt.hf\n",
    "from transformers import AutoTokenizer\n",
    "AutoTokenizer.from_pretrained(\"pcatt/hf/examples/greedtok_test2\")"
   ]
  }
 ],
 "metadata": {
  "kernelspec": {
   "display_name": "Python [conda env:tbb]",
   "language": "python",
   "name": "conda-env-tbb-py"
  },
  "language_info": {
   "codemirror_mode": {
    "name": "ipython",
    "version": 3
   },
   "file_extension": ".py",
   "mimetype": "text/x-python",
   "name": "python",
   "nbconvert_exporter": "python",
   "pygments_lexer": "ipython3",
   "version": "3.13.1"
  }
 },
 "nbformat": 4,
 "nbformat_minor": 5
}
